{
 "cells": [
  {
   "cell_type": "markdown",
   "metadata": {},
   "source": [
    "# 1. Importing Libraries"
   ]
  },
  {
   "cell_type": "code",
   "execution_count": 76,
   "metadata": {
    "Collapsed": "false"
   },
   "outputs": [],
   "source": [
    "# Web Scraping\n",
    "from bs4 import BeautifulSoup\n",
    "import requests\n",
    "\n",
    "# Data Cleaning/Feature Engineering\n",
    "import numpy as np\n",
    "import pandas as pd\n",
    "\n",
    "# Visualisation\n",
    "import seaborn as sns\n",
    "import matplotlib.pyplot as plt\n",
    "\n",
    "# Statistical Analysis\n",
    "import statsmodels.api as sm\n",
    "from statsmodels.formula.api import ols\n",
    "from scipy.stats import levene\n",
    "from statsmodels.stats.multitest import multipletests\n",
    "from statsmodels.stats.multicomp import pairwise_tukeyhsd\n",
    "from statsmodels.sandbox.stats.multicomp import TukeyHSDResults\n",
    "\n",
    "# Miscellaneous\n",
    "import string\n",
    "import time"
   ]
  },
  {
   "cell_type": "markdown",
   "metadata": {},
   "source": [
    "# 2. Web Scraping"
   ]
  },
  {
   "cell_type": "markdown",
   "metadata": {},
   "source": [
    "In this Section I use the BeautifulSoup library to scrape the ufc stats website. There is a web page for each letter in the alphabet, each page containing data on every fighter in the organisation with a last name beginning with that letter. Because of this, the scraing occurs in a for loop that iterates through each letter of the alphabet, changing the url in the request each time. All of this data is stored in a dictionary that is then used to get the data into a pandas dataframe."
   ]
  },
  {
   "cell_type": "code",
   "execution_count": 2,
   "metadata": {
    "Collapsed": "false"
   },
   "outputs": [],
   "source": [
    "alphabet = string.ascii_lowercase\n",
    "\n",
    "fighter_details = {}\n",
    "\n",
    "for letter in alphabet:\n",
    "\n",
    "    response = requests.get(f\"http://www.ufcstats.com/statistics/fighters?char={letter}&page=all\")\n",
    "    \n",
    "    soup = BeautifulSoup(response.text, \"lxml\")\n",
    "    \n",
    "    fighter_details[letter] = soup.find_all(\"td\",{'class':'b-statistics__table-col'})\n",
    "    "
   ]
  },
  {
   "cell_type": "markdown",
   "metadata": {},
   "source": [
    "With the data for every fighter now contained in a dictionary, each statistic was then put into its own list. This was done for the following fighter stats (not all were used in the analysis):\n",
    "\n",
    "- First name\n",
    "- Last name\n",
    "- Nick name\n",
    "- Height\n",
    "- Weight\n",
    "- Reach\n",
    "- Stance\n",
    "- Wins\n",
    "- Losses\n",
    "- Draws"
   ]
  },
  {
   "cell_type": "code",
   "execution_count": 4,
   "metadata": {
    "Collapsed": "false"
   },
   "outputs": [],
   "source": [
    "fighter_first_names = []\n",
    "\n",
    "for key, value in fighter_details.items():\n",
    "    for fighter in np.arange(0, len(fighter_details[key]), 11):\n",
    "        fighter_first_name = value[fighter].text.split(\"\\n\")[1]\n",
    "        fighter_first_names.append(fighter_first_name)"
   ]
  },
  {
   "cell_type": "code",
   "execution_count": 7,
   "metadata": {
    "Collapsed": "false"
   },
   "outputs": [],
   "source": [
    "fighter_last_names = []\n",
    "\n",
    "for key, value in fighter_details.items():\n",
    "    for fighter in np.arange(1, len(fighter_details[key]) + 1, 11):\n",
    "        fighter_last_name = value[fighter].text.split(\"\\n\")[1]\n",
    "        fighter_last_names.append(fighter_last_name)"
   ]
  },
  {
   "cell_type": "code",
   "execution_count": 10,
   "metadata": {
    "Collapsed": "false"
   },
   "outputs": [],
   "source": [
    "fighter_nick_names = []\n",
    "\n",
    "for key, value in fighter_details.items():\n",
    "    for fighter in np.arange(2, len(fighter_details[key]) + 2, 11):\n",
    "        fighter_nick_name = value[fighter].text.split(\"\\n\")[1]\n",
    "        fighter_nick_names.append(fighter_nick_name)"
   ]
  },
  {
   "cell_type": "code",
   "execution_count": 13,
   "metadata": {
    "Collapsed": "false"
   },
   "outputs": [],
   "source": [
    "fighter_heights = []\n",
    "\n",
    "for key, value in fighter_details.items():\n",
    "    for fighter in np.arange(3, len(fighter_details[key]) + 3, 11):\n",
    "        fighter_height = value[fighter].text.split(\"\\n\")[1][10:]\n",
    "        fighter_heights.append(fighter_height)"
   ]
  },
  {
   "cell_type": "code",
   "execution_count": 16,
   "metadata": {
    "Collapsed": "false"
   },
   "outputs": [],
   "source": [
    "fighter_weights = []\n",
    "\n",
    "for key, value in fighter_details.items():\n",
    "    for fighter in np.arange(4, len(fighter_details[key]) + 4, 11):\n",
    "        fighter_weight = value[fighter].text.split(\"\\n\")[1][10:13]\n",
    "        fighter_weights.append(fighter_weight)"
   ]
  },
  {
   "cell_type": "code",
   "execution_count": 19,
   "metadata": {
    "Collapsed": "false"
   },
   "outputs": [],
   "source": [
    "fighter_reaches = []\n",
    "\n",
    "for key, value in fighter_details.items():\n",
    "    for fighter in np.arange(5, len(fighter_details[key]) + 5, 11):\n",
    "        fighter_reach = value[fighter].text.split(\"\\n\")[1][10:14]\n",
    "        fighter_reaches.append(fighter_reach)"
   ]
  },
  {
   "cell_type": "code",
   "execution_count": 22,
   "metadata": {
    "Collapsed": "false"
   },
   "outputs": [],
   "source": [
    "fighter_stances = []\n",
    "\n",
    "for key, value in fighter_details.items():\n",
    "    for fighter in np.arange(6, len(fighter_details[key]) + 6, 11):\n",
    "        fighter_stance = value[fighter].text.split(\"\\n\")[1][10:]\n",
    "        fighter_stances.append(fighter_stance)"
   ]
  },
  {
   "cell_type": "code",
   "execution_count": 25,
   "metadata": {
    "Collapsed": "false"
   },
   "outputs": [],
   "source": [
    "fighter_wins = []\n",
    "\n",
    "for key, value in fighter_details.items():\n",
    "    for fighter in np.arange(7, len(fighter_details[key]) + 7, 11):\n",
    "        fighter_win = value[fighter].text.split(\"\\n\")[1][10:]\n",
    "        fighter_wins.append(fighter_win)"
   ]
  },
  {
   "cell_type": "code",
   "execution_count": 28,
   "metadata": {
    "Collapsed": "false"
   },
   "outputs": [],
   "source": [
    "fighter_losses = []\n",
    "\n",
    "for key, value in fighter_details.items():\n",
    "    for fighter in np.arange(8, len(fighter_details[key]) + 8, 11):\n",
    "        fighter_loss = value[fighter].text.split(\"\\n\")[1][10:]\n",
    "        fighter_losses.append(fighter_loss)"
   ]
  },
  {
   "cell_type": "code",
   "execution_count": 31,
   "metadata": {
    "Collapsed": "false"
   },
   "outputs": [],
   "source": [
    "fighter_draws = []\n",
    "\n",
    "for key, value in fighter_details.items():\n",
    "    for fighter in np.arange(9, len(fighter_details[key]) + 9, 11):\n",
    "        fighter_draw = value[fighter].text.split(\"\\n\")[1][10:]\n",
    "        fighter_draws.append(fighter_draw)"
   ]
  },
  {
   "cell_type": "markdown",
   "metadata": {},
   "source": [
    "The lists were then concatenated into a pandas dataframe, the preview of which can be seen below."
   ]
  },
  {
   "cell_type": "code",
   "execution_count": 89,
   "metadata": {
    "Collapsed": "false"
   },
   "outputs": [],
   "source": [
    "fighter_df = pd.DataFrame(fighter_last_names)\n",
    "fighter_df.rename(columns={0:\"last_name\"}, inplace = True)\n",
    "\n",
    "fighter_df[\"first_name\"] = fighter_first_names\n",
    "fighter_df[\"nick_name\"] = fighter_nick_names\n",
    "fighter_df[\"height\"] = fighter_heights\n",
    "fighter_df[\"weight\"] = fighter_weights\n",
    "fighter_df[\"reach\"] = fighter_reaches\n",
    "fighter_df[\"stance\"] = fighter_stances\n",
    "fighter_df[\"wins\"] = fighter_wins\n",
    "fighter_df[\"losses\"] = fighter_losses\n",
    "fighter_df[\"draws\"] = fighter_draws"
   ]
  },
  {
   "cell_type": "code",
   "execution_count": 90,
   "metadata": {
    "Collapsed": "false"
   },
   "outputs": [
    {
     "data": {
      "text/html": [
       "<div>\n",
       "<style scoped>\n",
       "    .dataframe tbody tr th:only-of-type {\n",
       "        vertical-align: middle;\n",
       "    }\n",
       "\n",
       "    .dataframe tbody tr th {\n",
       "        vertical-align: top;\n",
       "    }\n",
       "\n",
       "    .dataframe thead th {\n",
       "        text-align: right;\n",
       "    }\n",
       "</style>\n",
       "<table border=\"1\" class=\"dataframe\">\n",
       "  <thead>\n",
       "    <tr style=\"text-align: right;\">\n",
       "      <th></th>\n",
       "      <th>last_name</th>\n",
       "      <th>first_name</th>\n",
       "      <th>nick_name</th>\n",
       "      <th>height</th>\n",
       "      <th>weight</th>\n",
       "      <th>reach</th>\n",
       "      <th>stance</th>\n",
       "      <th>wins</th>\n",
       "      <th>losses</th>\n",
       "      <th>draws</th>\n",
       "    </tr>\n",
       "  </thead>\n",
       "  <tbody>\n",
       "    <tr>\n",
       "      <td>0</td>\n",
       "      <td>Aaron</td>\n",
       "      <td>Tom</td>\n",
       "      <td></td>\n",
       "      <td>--</td>\n",
       "      <td>155</td>\n",
       "      <td>--</td>\n",
       "      <td></td>\n",
       "      <td>5</td>\n",
       "      <td>3</td>\n",
       "      <td>0</td>\n",
       "    </tr>\n",
       "    <tr>\n",
       "      <td>1</td>\n",
       "      <td>Abbadi</td>\n",
       "      <td>Danny</td>\n",
       "      <td>The Assassin</td>\n",
       "      <td>5' 11\"</td>\n",
       "      <td>155</td>\n",
       "      <td>--</td>\n",
       "      <td>Orthodox</td>\n",
       "      <td>4</td>\n",
       "      <td>6</td>\n",
       "      <td>0</td>\n",
       "    </tr>\n",
       "    <tr>\n",
       "      <td>2</td>\n",
       "      <td>Abbott</td>\n",
       "      <td>David</td>\n",
       "      <td>Tank</td>\n",
       "      <td>6' 0\"</td>\n",
       "      <td>265</td>\n",
       "      <td>--</td>\n",
       "      <td>Switch</td>\n",
       "      <td>10</td>\n",
       "      <td>14</td>\n",
       "      <td>0</td>\n",
       "    </tr>\n",
       "    <tr>\n",
       "      <td>3</td>\n",
       "      <td>Abdurakhimov</td>\n",
       "      <td>Shamil</td>\n",
       "      <td>Abrek</td>\n",
       "      <td>6' 3\"</td>\n",
       "      <td>235</td>\n",
       "      <td>76.0</td>\n",
       "      <td>Orthodox</td>\n",
       "      <td>20</td>\n",
       "      <td>5</td>\n",
       "      <td>0</td>\n",
       "    </tr>\n",
       "    <tr>\n",
       "      <td>4</td>\n",
       "      <td>Abe</td>\n",
       "      <td>Hiroyuki</td>\n",
       "      <td>Abe Ani</td>\n",
       "      <td>5' 6\"</td>\n",
       "      <td>145</td>\n",
       "      <td>--</td>\n",
       "      <td>Orthodox</td>\n",
       "      <td>8</td>\n",
       "      <td>14</td>\n",
       "      <td>3</td>\n",
       "    </tr>\n",
       "  </tbody>\n",
       "</table>\n",
       "</div>"
      ],
      "text/plain": [
       "      last_name first_name     nick_name  height weight reach    stance wins  \\\n",
       "0         Aaron        Tom                    --    155    --              5   \n",
       "1        Abbadi      Danny  The Assassin  5' 11\"    155    --  Orthodox    4   \n",
       "2        Abbott      David          Tank   6' 0\"    265    --    Switch   10   \n",
       "3  Abdurakhimov     Shamil         Abrek   6' 3\"    235  76.0  Orthodox   20   \n",
       "4           Abe   Hiroyuki       Abe Ani   5' 6\"    145    --  Orthodox    8   \n",
       "\n",
       "  losses draws  \n",
       "0      3     0  \n",
       "1      6     0  \n",
       "2     14     0  \n",
       "3      5     0  \n",
       "4     14     3  "
      ]
     },
     "execution_count": 90,
     "metadata": {},
     "output_type": "execute_result"
    }
   ],
   "source": [
    "fighter_df.head()"
   ]
  },
  {
   "cell_type": "code",
   "execution_count": 36,
   "metadata": {
    "Collapsed": "false"
   },
   "outputs": [
    {
     "data": {
      "text/plain": [
       "3412"
      ]
     },
     "execution_count": 36,
     "metadata": {},
     "output_type": "execute_result"
    }
   ],
   "source": [
    "len(fighter_df)"
   ]
  },
  {
   "cell_type": "code",
   "execution_count": 37,
   "metadata": {
    "Collapsed": "false"
   },
   "outputs": [
    {
     "name": "stdout",
     "output_type": "stream",
     "text": [
      "<class 'pandas.core.frame.DataFrame'>\n",
      "RangeIndex: 3412 entries, 0 to 3411\n",
      "Data columns (total 10 columns):\n",
      "last_name     3412 non-null object\n",
      "first_name    3412 non-null object\n",
      "nick_name     3412 non-null object\n",
      "height        3412 non-null object\n",
      "weight        3412 non-null object\n",
      "reach         3412 non-null object\n",
      "stance        3412 non-null object\n",
      "wins          3412 non-null object\n",
      "losses        3412 non-null object\n",
      "draws         3412 non-null object\n",
      "dtypes: object(10)\n",
      "memory usage: 266.7+ KB\n"
     ]
    }
   ],
   "source": [
    "fighter_df.info()"
   ]
  },
  {
   "cell_type": "code",
   "execution_count": 38,
   "metadata": {
    "Collapsed": "false"
   },
   "outputs": [],
   "source": [
    "fighter_df[\"wins\"] = fighter_df[\"wins\"].astype(int)\n",
    "fighter_df[\"losses\"] = fighter_df[\"losses\"].astype(int)\n",
    "fighter_df[\"draws\"] = fighter_df[\"draws\"].astype(int)"
   ]
  },
  {
   "cell_type": "markdown",
   "metadata": {},
   "source": [
    "This analyis was focused on the role that an individuals stance has on their success in the UFC. The wins, losses and draws of a fighter could tell us about their success, but not on their own. I had to do some feature engineering to create a standardised feature that would allow for a direst comparison between each fighter. I decided to use the fighter's win : total number of fights ratio."
   ]
  },
  {
   "cell_type": "code",
   "execution_count": null,
   "metadata": {
    "Collapsed": "false"
   },
   "outputs": [],
   "source": [
    "fighter_df[\"total_fights\"] = fighter_df.wins + fighter_df.losses + fighter_df.draws\n",
    "fighter_df[\"win_ratio\"] = round(fighter_df.wins/fighter_df.total_fights, 2)"
   ]
  },
  {
   "cell_type": "code",
   "execution_count": 41,
   "metadata": {
    "Collapsed": "false"
   },
   "outputs": [
    {
     "data": {
      "text/html": [
       "<div>\n",
       "<style scoped>\n",
       "    .dataframe tbody tr th:only-of-type {\n",
       "        vertical-align: middle;\n",
       "    }\n",
       "\n",
       "    .dataframe tbody tr th {\n",
       "        vertical-align: top;\n",
       "    }\n",
       "\n",
       "    .dataframe thead th {\n",
       "        text-align: right;\n",
       "    }\n",
       "</style>\n",
       "<table border=\"1\" class=\"dataframe\">\n",
       "  <thead>\n",
       "    <tr style=\"text-align: right;\">\n",
       "      <th></th>\n",
       "      <th>last_name</th>\n",
       "      <th>first_name</th>\n",
       "      <th>nick_name</th>\n",
       "      <th>height</th>\n",
       "      <th>weight</th>\n",
       "      <th>reach</th>\n",
       "      <th>stance</th>\n",
       "      <th>wins</th>\n",
       "      <th>losses</th>\n",
       "      <th>draws</th>\n",
       "      <th>total_fights</th>\n",
       "      <th>win_ratio</th>\n",
       "    </tr>\n",
       "  </thead>\n",
       "  <tbody>\n",
       "    <tr>\n",
       "      <td>0</td>\n",
       "      <td>Aaron</td>\n",
       "      <td>Tom</td>\n",
       "      <td></td>\n",
       "      <td>--</td>\n",
       "      <td>155</td>\n",
       "      <td>--</td>\n",
       "      <td></td>\n",
       "      <td>5</td>\n",
       "      <td>3</td>\n",
       "      <td>0</td>\n",
       "      <td>8</td>\n",
       "      <td>0.62</td>\n",
       "    </tr>\n",
       "    <tr>\n",
       "      <td>1</td>\n",
       "      <td>Abbadi</td>\n",
       "      <td>Danny</td>\n",
       "      <td>The Assassin</td>\n",
       "      <td>5' 11\"</td>\n",
       "      <td>155</td>\n",
       "      <td>--</td>\n",
       "      <td>Orthodox</td>\n",
       "      <td>4</td>\n",
       "      <td>6</td>\n",
       "      <td>0</td>\n",
       "      <td>10</td>\n",
       "      <td>0.40</td>\n",
       "    </tr>\n",
       "    <tr>\n",
       "      <td>2</td>\n",
       "      <td>Abbott</td>\n",
       "      <td>David</td>\n",
       "      <td>Tank</td>\n",
       "      <td>6' 0\"</td>\n",
       "      <td>265</td>\n",
       "      <td>--</td>\n",
       "      <td>Switch</td>\n",
       "      <td>10</td>\n",
       "      <td>14</td>\n",
       "      <td>0</td>\n",
       "      <td>24</td>\n",
       "      <td>0.42</td>\n",
       "    </tr>\n",
       "    <tr>\n",
       "      <td>3</td>\n",
       "      <td>Abdurakhimov</td>\n",
       "      <td>Shamil</td>\n",
       "      <td>Abrek</td>\n",
       "      <td>6' 3\"</td>\n",
       "      <td>235</td>\n",
       "      <td>76.0</td>\n",
       "      <td>Orthodox</td>\n",
       "      <td>20</td>\n",
       "      <td>5</td>\n",
       "      <td>0</td>\n",
       "      <td>25</td>\n",
       "      <td>0.80</td>\n",
       "    </tr>\n",
       "    <tr>\n",
       "      <td>4</td>\n",
       "      <td>Abe</td>\n",
       "      <td>Hiroyuki</td>\n",
       "      <td>Abe Ani</td>\n",
       "      <td>5' 6\"</td>\n",
       "      <td>145</td>\n",
       "      <td>--</td>\n",
       "      <td>Orthodox</td>\n",
       "      <td>8</td>\n",
       "      <td>14</td>\n",
       "      <td>3</td>\n",
       "      <td>25</td>\n",
       "      <td>0.32</td>\n",
       "    </tr>\n",
       "  </tbody>\n",
       "</table>\n",
       "</div>"
      ],
      "text/plain": [
       "      last_name first_name     nick_name  height weight reach    stance  wins  \\\n",
       "0         Aaron        Tom                    --    155    --               5   \n",
       "1        Abbadi      Danny  The Assassin  5' 11\"    155    --  Orthodox     4   \n",
       "2        Abbott      David          Tank   6' 0\"    265    --    Switch    10   \n",
       "3  Abdurakhimov     Shamil         Abrek   6' 3\"    235  76.0  Orthodox    20   \n",
       "4           Abe   Hiroyuki       Abe Ani   5' 6\"    145    --  Orthodox     8   \n",
       "\n",
       "   losses  draws  total_fights  win_ratio  \n",
       "0       3      0             8       0.62  \n",
       "1       6      0            10       0.40  \n",
       "2      14      0            24       0.42  \n",
       "3       5      0            25       0.80  \n",
       "4      14      3            25       0.32  "
      ]
     },
     "execution_count": 41,
     "metadata": {},
     "output_type": "execute_result"
    }
   ],
   "source": [
    "fighter_df.head()"
   ]
  },
  {
   "cell_type": "code",
   "execution_count": 42,
   "metadata": {
    "Collapsed": "false"
   },
   "outputs": [
    {
     "data": {
      "text/plain": [
       "3412"
      ]
     },
     "execution_count": 42,
     "metadata": {},
     "output_type": "execute_result"
    }
   ],
   "source": [
    "initial_number_of_fighters = len(fighter_df)\n",
    "initial_number_of_fighters"
   ]
  },
  {
   "cell_type": "markdown",
   "metadata": {},
   "source": [
    "Any fighters that were missing data on their stance were removed from the analysis."
   ]
  },
  {
   "cell_type": "code",
   "execution_count": 43,
   "metadata": {
    "Collapsed": "false"
   },
   "outputs": [],
   "source": [
    "fighter_df = fighter_df[fighter_df[\"stance\"] != \"\"]"
   ]
  },
  {
   "cell_type": "code",
   "execution_count": 44,
   "metadata": {
    "Collapsed": "false"
   },
   "outputs": [
    {
     "data": {
      "text/plain": [
       "841"
      ]
     },
     "execution_count": 44,
     "metadata": {},
     "output_type": "execute_result"
    }
   ],
   "source": [
    "number_of_fighters_removed = initial_number_of_fighters - len(fighter_df)\n",
    "number_of_fighters_removed"
   ]
  },
  {
   "cell_type": "code",
   "execution_count": 94,
   "metadata": {
    "Collapsed": "false"
   },
   "outputs": [
    {
     "name": "stdout",
     "output_type": "stream",
     "text": [
      "Southpaw: 452\n",
      "Orthodox: 2009\n",
      "Switch: 100\n",
      "Open: 7\n",
      "Sideways: 3\n"
     ]
    },
    {
     "data": {
      "text/plain": [
       "0.1324736225087925"
      ]
     },
     "execution_count": 94,
     "metadata": {},
     "output_type": "execute_result"
    }
   ],
   "source": [
    "num_southpaw = len(fighter_df[fighter_df[\"stance\"] == \"Southpaw\"])\n",
    "num_orthodox = len(fighter_df[fighter_df[\"stance\"] == \"Orthodox\"])\n",
    "num_switch = len(fighter_df[fighter_df[\"stance\"] == \"Switch\"])\n",
    "num_open = len(fighter_df[fighter_df[\"stance\"] == \"Open Stance\"])\n",
    "num_sideways = len(fighter_df[fighter_df[\"stance\"] == \"Sideways\"])\n",
    "print(f'Southpaw: {num_southpaw}')\n",
    "print(f'Orthodox: {num_orthodox}')\n",
    "print(f'Switch: {num_switch}')\n",
    "print(f'Open: {num_open}')\n",
    "print(f'Sideways: {num_sideways}')\n",
    "num_southpaw/len(fighter_df)"
   ]
  },
  {
   "cell_type": "code",
   "execution_count": 46,
   "metadata": {
    "Collapsed": "false"
   },
   "outputs": [
    {
     "data": {
      "text/plain": [
       "0.6767055620381179"
      ]
     },
     "execution_count": 46,
     "metadata": {},
     "output_type": "execute_result"
    }
   ],
   "source": [
    "fighter_df[\"win_ratio\"].mean()"
   ]
  },
  {
   "cell_type": "code",
   "execution_count": 47,
   "metadata": {
    "Collapsed": "false"
   },
   "outputs": [
    {
     "data": {
      "text/plain": [
       "18.87903539478802"
      ]
     },
     "execution_count": 47,
     "metadata": {},
     "output_type": "execute_result"
    }
   ],
   "source": [
    "fighter_df[\"total_fights\"].mean()"
   ]
  },
  {
   "cell_type": "code",
   "execution_count": 48,
   "metadata": {
    "Collapsed": "false"
   },
   "outputs": [],
   "source": [
    "fighter_df = fighter_df[fighter_df[\"total_fights\"] >= 5]"
   ]
  },
  {
   "cell_type": "code",
   "execution_count": 49,
   "metadata": {
    "Collapsed": "false"
   },
   "outputs": [
    {
     "data": {
      "text/plain": [
       "2421"
      ]
     },
     "execution_count": 49,
     "metadata": {},
     "output_type": "execute_result"
    }
   ],
   "source": [
    "len(fighter_df)"
   ]
  },
  {
   "cell_type": "code",
   "execution_count": 50,
   "metadata": {
    "Collapsed": "false"
   },
   "outputs": [
    {
     "data": {
      "text/plain": [
       "0"
      ]
     },
     "execution_count": 50,
     "metadata": {},
     "output_type": "execute_result"
    }
   ],
   "source": [
    "fighter_df.isnull().sum().sum()"
   ]
  },
  {
   "cell_type": "code",
   "execution_count": 51,
   "metadata": {
    "Collapsed": "false"
   },
   "outputs": [
    {
     "data": {
      "text/plain": [
       "array(['Orthodox', 'Switch', 'Southpaw', 'Open Stance', 'Sideways'],\n",
       "      dtype=object)"
      ]
     },
     "execution_count": 51,
     "metadata": {},
     "output_type": "execute_result"
    }
   ],
   "source": [
    "fighter_df[\"stance\"].unique()"
   ]
  },
  {
   "cell_type": "code",
   "execution_count": 52,
   "metadata": {
    "Collapsed": "false"
   },
   "outputs": [
    {
     "data": {
      "text/html": [
       "<div>\n",
       "<style scoped>\n",
       "    .dataframe tbody tr th:only-of-type {\n",
       "        vertical-align: middle;\n",
       "    }\n",
       "\n",
       "    .dataframe tbody tr th {\n",
       "        vertical-align: top;\n",
       "    }\n",
       "\n",
       "    .dataframe thead th {\n",
       "        text-align: right;\n",
       "    }\n",
       "</style>\n",
       "<table border=\"1\" class=\"dataframe\">\n",
       "  <thead>\n",
       "    <tr style=\"text-align: right;\">\n",
       "      <th></th>\n",
       "      <th>last_name</th>\n",
       "      <th>first_name</th>\n",
       "      <th>nick_name</th>\n",
       "      <th>height</th>\n",
       "      <th>weight</th>\n",
       "      <th>reach</th>\n",
       "      <th>stance</th>\n",
       "      <th>wins</th>\n",
       "      <th>losses</th>\n",
       "      <th>draws</th>\n",
       "      <th>total_fights</th>\n",
       "      <th>win_ratio</th>\n",
       "    </tr>\n",
       "  </thead>\n",
       "  <tbody>\n",
       "    <tr>\n",
       "      <td>1</td>\n",
       "      <td>Abbadi</td>\n",
       "      <td>Danny</td>\n",
       "      <td>The Assassin</td>\n",
       "      <td>5' 11\"</td>\n",
       "      <td>155</td>\n",
       "      <td>--</td>\n",
       "      <td>Orthodox</td>\n",
       "      <td>4</td>\n",
       "      <td>6</td>\n",
       "      <td>0</td>\n",
       "      <td>10</td>\n",
       "      <td>0.40</td>\n",
       "    </tr>\n",
       "    <tr>\n",
       "      <td>3</td>\n",
       "      <td>Abdurakhimov</td>\n",
       "      <td>Shamil</td>\n",
       "      <td>Abrek</td>\n",
       "      <td>6' 3\"</td>\n",
       "      <td>235</td>\n",
       "      <td>76.0</td>\n",
       "      <td>Orthodox</td>\n",
       "      <td>20</td>\n",
       "      <td>5</td>\n",
       "      <td>0</td>\n",
       "      <td>25</td>\n",
       "      <td>0.80</td>\n",
       "    </tr>\n",
       "    <tr>\n",
       "      <td>4</td>\n",
       "      <td>Abe</td>\n",
       "      <td>Hiroyuki</td>\n",
       "      <td>Abe Ani</td>\n",
       "      <td>5' 6\"</td>\n",
       "      <td>145</td>\n",
       "      <td>--</td>\n",
       "      <td>Orthodox</td>\n",
       "      <td>8</td>\n",
       "      <td>14</td>\n",
       "      <td>3</td>\n",
       "      <td>25</td>\n",
       "      <td>0.32</td>\n",
       "    </tr>\n",
       "    <tr>\n",
       "      <td>5</td>\n",
       "      <td>Abe</td>\n",
       "      <td>Daichi</td>\n",
       "      <td></td>\n",
       "      <td>5' 11\"</td>\n",
       "      <td>170</td>\n",
       "      <td>71.0</td>\n",
       "      <td>Orthodox</td>\n",
       "      <td>6</td>\n",
       "      <td>2</td>\n",
       "      <td>0</td>\n",
       "      <td>8</td>\n",
       "      <td>0.75</td>\n",
       "    </tr>\n",
       "    <tr>\n",
       "      <td>7</td>\n",
       "      <td>Abreu</td>\n",
       "      <td>Ricardo</td>\n",
       "      <td>Demente</td>\n",
       "      <td>5' 11\"</td>\n",
       "      <td>185</td>\n",
       "      <td>73.0</td>\n",
       "      <td>Orthodox</td>\n",
       "      <td>5</td>\n",
       "      <td>3</td>\n",
       "      <td>0</td>\n",
       "      <td>8</td>\n",
       "      <td>0.62</td>\n",
       "    </tr>\n",
       "  </tbody>\n",
       "</table>\n",
       "</div>"
      ],
      "text/plain": [
       "      last_name first_name     nick_name  height weight reach    stance  wins  \\\n",
       "1        Abbadi      Danny  The Assassin  5' 11\"    155    --  Orthodox     4   \n",
       "3  Abdurakhimov     Shamil         Abrek   6' 3\"    235  76.0  Orthodox    20   \n",
       "4           Abe   Hiroyuki       Abe Ani   5' 6\"    145    --  Orthodox     8   \n",
       "5           Abe     Daichi                5' 11\"    170  71.0  Orthodox     6   \n",
       "7         Abreu    Ricardo       Demente  5' 11\"    185  73.0  Orthodox     5   \n",
       "\n",
       "   losses  draws  total_fights  win_ratio  \n",
       "1       6      0            10       0.40  \n",
       "3       5      0            25       0.80  \n",
       "4      14      3            25       0.32  \n",
       "5       2      0             8       0.75  \n",
       "7       3      0             8       0.62  "
      ]
     },
     "execution_count": 52,
     "metadata": {},
     "output_type": "execute_result"
    }
   ],
   "source": [
    "orthodox_df = fighter_df[fighter_df[\"stance\"] == \"Orthodox\"]\n",
    "orthodox_df.head()"
   ]
  },
  {
   "cell_type": "code",
   "execution_count": 53,
   "metadata": {
    "Collapsed": "false"
   },
   "outputs": [
    {
     "data": {
      "text/html": [
       "<div>\n",
       "<style scoped>\n",
       "    .dataframe tbody tr th:only-of-type {\n",
       "        vertical-align: middle;\n",
       "    }\n",
       "\n",
       "    .dataframe tbody tr th {\n",
       "        vertical-align: top;\n",
       "    }\n",
       "\n",
       "    .dataframe thead th {\n",
       "        text-align: right;\n",
       "    }\n",
       "</style>\n",
       "<table border=\"1\" class=\"dataframe\">\n",
       "  <thead>\n",
       "    <tr style=\"text-align: right;\">\n",
       "      <th></th>\n",
       "      <th>last_name</th>\n",
       "      <th>first_name</th>\n",
       "      <th>nick_name</th>\n",
       "      <th>height</th>\n",
       "      <th>weight</th>\n",
       "      <th>reach</th>\n",
       "      <th>stance</th>\n",
       "      <th>wins</th>\n",
       "      <th>losses</th>\n",
       "      <th>draws</th>\n",
       "      <th>total_fights</th>\n",
       "      <th>win_ratio</th>\n",
       "    </tr>\n",
       "  </thead>\n",
       "  <tbody>\n",
       "    <tr>\n",
       "      <td>6</td>\n",
       "      <td>Abedi</td>\n",
       "      <td>Papy</td>\n",
       "      <td>Makambo</td>\n",
       "      <td>5' 11\"</td>\n",
       "      <td>185</td>\n",
       "      <td>74.0</td>\n",
       "      <td>Southpaw</td>\n",
       "      <td>9</td>\n",
       "      <td>3</td>\n",
       "      <td>0</td>\n",
       "      <td>12</td>\n",
       "      <td>0.75</td>\n",
       "    </tr>\n",
       "    <tr>\n",
       "      <td>10</td>\n",
       "      <td>Adams</td>\n",
       "      <td>Scott</td>\n",
       "      <td></td>\n",
       "      <td>6' 0\"</td>\n",
       "      <td>225</td>\n",
       "      <td>--</td>\n",
       "      <td>Southpaw</td>\n",
       "      <td>8</td>\n",
       "      <td>1</td>\n",
       "      <td>0</td>\n",
       "      <td>9</td>\n",
       "      <td>0.89</td>\n",
       "    </tr>\n",
       "    <tr>\n",
       "      <td>16</td>\n",
       "      <td>Agapova</td>\n",
       "      <td>Mariya</td>\n",
       "      <td></td>\n",
       "      <td>5' 8\"</td>\n",
       "      <td>125</td>\n",
       "      <td>--</td>\n",
       "      <td>Southpaw</td>\n",
       "      <td>6</td>\n",
       "      <td>1</td>\n",
       "      <td>0</td>\n",
       "      <td>7</td>\n",
       "      <td>0.86</td>\n",
       "    </tr>\n",
       "    <tr>\n",
       "      <td>22</td>\n",
       "      <td>Akano</td>\n",
       "      <td>Hitomi</td>\n",
       "      <td>Girlfight Monster</td>\n",
       "      <td>5' 4\"</td>\n",
       "      <td>135</td>\n",
       "      <td>--</td>\n",
       "      <td>Southpaw</td>\n",
       "      <td>18</td>\n",
       "      <td>8</td>\n",
       "      <td>0</td>\n",
       "      <td>26</td>\n",
       "      <td>0.69</td>\n",
       "    </tr>\n",
       "    <tr>\n",
       "      <td>38</td>\n",
       "      <td>Alcantara</td>\n",
       "      <td>Iuri</td>\n",
       "      <td>Marajo</td>\n",
       "      <td>5' 9\"</td>\n",
       "      <td>135</td>\n",
       "      <td>71.0</td>\n",
       "      <td>Southpaw</td>\n",
       "      <td>35</td>\n",
       "      <td>10</td>\n",
       "      <td>0</td>\n",
       "      <td>45</td>\n",
       "      <td>0.78</td>\n",
       "    </tr>\n",
       "  </tbody>\n",
       "</table>\n",
       "</div>"
      ],
      "text/plain": [
       "    last_name first_name          nick_name  height weight reach    stance  \\\n",
       "6       Abedi       Papy            Makambo  5' 11\"    185  74.0  Southpaw   \n",
       "10      Adams      Scott                      6' 0\"    225    --  Southpaw   \n",
       "16    Agapova     Mariya                      5' 8\"    125    --  Southpaw   \n",
       "22      Akano     Hitomi  Girlfight Monster   5' 4\"    135    --  Southpaw   \n",
       "38  Alcantara       Iuri             Marajo   5' 9\"    135  71.0  Southpaw   \n",
       "\n",
       "    wins  losses  draws  total_fights  win_ratio  \n",
       "6      9       3      0            12       0.75  \n",
       "10     8       1      0             9       0.89  \n",
       "16     6       1      0             7       0.86  \n",
       "22    18       8      0            26       0.69  \n",
       "38    35      10      0            45       0.78  "
      ]
     },
     "execution_count": 53,
     "metadata": {},
     "output_type": "execute_result"
    }
   ],
   "source": [
    "southpaw_df = fighter_df[fighter_df[\"stance\"] == \"Southpaw\"]\n",
    "southpaw_df.head()"
   ]
  },
  {
   "cell_type": "code",
   "execution_count": 54,
   "metadata": {
    "Collapsed": "false"
   },
   "outputs": [
    {
     "data": {
      "text/html": [
       "<div>\n",
       "<style scoped>\n",
       "    .dataframe tbody tr th:only-of-type {\n",
       "        vertical-align: middle;\n",
       "    }\n",
       "\n",
       "    .dataframe tbody tr th {\n",
       "        vertical-align: top;\n",
       "    }\n",
       "\n",
       "    .dataframe thead th {\n",
       "        text-align: right;\n",
       "    }\n",
       "</style>\n",
       "<table border=\"1\" class=\"dataframe\">\n",
       "  <thead>\n",
       "    <tr style=\"text-align: right;\">\n",
       "      <th></th>\n",
       "      <th>last_name</th>\n",
       "      <th>first_name</th>\n",
       "      <th>nick_name</th>\n",
       "      <th>height</th>\n",
       "      <th>weight</th>\n",
       "      <th>reach</th>\n",
       "      <th>stance</th>\n",
       "      <th>wins</th>\n",
       "      <th>losses</th>\n",
       "      <th>draws</th>\n",
       "      <th>total_fights</th>\n",
       "      <th>win_ratio</th>\n",
       "    </tr>\n",
       "  </thead>\n",
       "  <tbody>\n",
       "    <tr>\n",
       "      <td>2</td>\n",
       "      <td>Abbott</td>\n",
       "      <td>David</td>\n",
       "      <td>Tank</td>\n",
       "      <td>6' 0\"</td>\n",
       "      <td>265</td>\n",
       "      <td>--</td>\n",
       "      <td>Switch</td>\n",
       "      <td>10</td>\n",
       "      <td>14</td>\n",
       "      <td>0</td>\n",
       "      <td>24</td>\n",
       "      <td>0.42</td>\n",
       "    </tr>\n",
       "    <tr>\n",
       "      <td>13</td>\n",
       "      <td>Adesanya</td>\n",
       "      <td>Israel</td>\n",
       "      <td>The Last Stylebender</td>\n",
       "      <td>6' 4\"</td>\n",
       "      <td>185</td>\n",
       "      <td>80.0</td>\n",
       "      <td>Switch</td>\n",
       "      <td>19</td>\n",
       "      <td>0</td>\n",
       "      <td>0</td>\n",
       "      <td>19</td>\n",
       "      <td>1.00</td>\n",
       "    </tr>\n",
       "    <tr>\n",
       "      <td>25</td>\n",
       "      <td>Akman</td>\n",
       "      <td>Rostem</td>\n",
       "      <td>Kurdimus Prime</td>\n",
       "      <td>5' 10\"</td>\n",
       "      <td>170</td>\n",
       "      <td>72.0</td>\n",
       "      <td>Switch</td>\n",
       "      <td>6</td>\n",
       "      <td>2</td>\n",
       "      <td>0</td>\n",
       "      <td>8</td>\n",
       "      <td>0.75</td>\n",
       "    </tr>\n",
       "    <tr>\n",
       "      <td>54</td>\n",
       "      <td>Algeo</td>\n",
       "      <td>Bill</td>\n",
       "      <td>Senor Perfecto</td>\n",
       "      <td>6' 0\"</td>\n",
       "      <td>145</td>\n",
       "      <td>73.0</td>\n",
       "      <td>Switch</td>\n",
       "      <td>12</td>\n",
       "      <td>3</td>\n",
       "      <td>0</td>\n",
       "      <td>15</td>\n",
       "      <td>0.80</td>\n",
       "    </tr>\n",
       "    <tr>\n",
       "      <td>102</td>\n",
       "      <td>Andrews</td>\n",
       "      <td>Dylan</td>\n",
       "      <td>The Villain</td>\n",
       "      <td>6' 1\"</td>\n",
       "      <td>185</td>\n",
       "      <td>73.0</td>\n",
       "      <td>Switch</td>\n",
       "      <td>18</td>\n",
       "      <td>8</td>\n",
       "      <td>0</td>\n",
       "      <td>26</td>\n",
       "      <td>0.69</td>\n",
       "    </tr>\n",
       "  </tbody>\n",
       "</table>\n",
       "</div>"
      ],
      "text/plain": [
       "    last_name first_name             nick_name  height weight reach  stance  \\\n",
       "2      Abbott      David                  Tank   6' 0\"    265    --  Switch   \n",
       "13   Adesanya     Israel  The Last Stylebender   6' 4\"    185  80.0  Switch   \n",
       "25      Akman     Rostem        Kurdimus Prime  5' 10\"    170  72.0  Switch   \n",
       "54      Algeo       Bill        Senor Perfecto   6' 0\"    145  73.0  Switch   \n",
       "102   Andrews      Dylan           The Villain   6' 1\"    185  73.0  Switch   \n",
       "\n",
       "     wins  losses  draws  total_fights  win_ratio  \n",
       "2      10      14      0            24       0.42  \n",
       "13     19       0      0            19       1.00  \n",
       "25      6       2      0             8       0.75  \n",
       "54     12       3      0            15       0.80  \n",
       "102    18       8      0            26       0.69  "
      ]
     },
     "execution_count": 54,
     "metadata": {},
     "output_type": "execute_result"
    }
   ],
   "source": [
    "switch_df = fighter_df[fighter_df[\"stance\"] == \"Switch\"]\n",
    "switch_df.head()"
   ]
  },
  {
   "cell_type": "code",
   "execution_count": 55,
   "metadata": {
    "Collapsed": "false"
   },
   "outputs": [
    {
     "data": {
      "text/html": [
       "<div>\n",
       "<style scoped>\n",
       "    .dataframe tbody tr th:only-of-type {\n",
       "        vertical-align: middle;\n",
       "    }\n",
       "\n",
       "    .dataframe tbody tr th {\n",
       "        vertical-align: top;\n",
       "    }\n",
       "\n",
       "    .dataframe thead th {\n",
       "        text-align: right;\n",
       "    }\n",
       "</style>\n",
       "<table border=\"1\" class=\"dataframe\">\n",
       "  <thead>\n",
       "    <tr style=\"text-align: right;\">\n",
       "      <th></th>\n",
       "      <th>last_name</th>\n",
       "      <th>first_name</th>\n",
       "      <th>nick_name</th>\n",
       "      <th>height</th>\n",
       "      <th>weight</th>\n",
       "      <th>reach</th>\n",
       "      <th>stance</th>\n",
       "      <th>wins</th>\n",
       "      <th>losses</th>\n",
       "      <th>draws</th>\n",
       "      <th>total_fights</th>\n",
       "      <th>win_ratio</th>\n",
       "    </tr>\n",
       "  </thead>\n",
       "  <tbody>\n",
       "    <tr>\n",
       "      <td>59</td>\n",
       "      <td>Allen</td>\n",
       "      <td>George</td>\n",
       "      <td></td>\n",
       "      <td>6' 2\"</td>\n",
       "      <td>205</td>\n",
       "      <td>--</td>\n",
       "      <td>Open Stance</td>\n",
       "      <td>13</td>\n",
       "      <td>19</td>\n",
       "      <td>2</td>\n",
       "      <td>34</td>\n",
       "      <td>0.38</td>\n",
       "    </tr>\n",
       "    <tr>\n",
       "      <td>939</td>\n",
       "      <td>Foupa-Pokam</td>\n",
       "      <td>Xavier</td>\n",
       "      <td>Professor X</td>\n",
       "      <td>6' 1\"</td>\n",
       "      <td>185</td>\n",
       "      <td>--</td>\n",
       "      <td>Open Stance</td>\n",
       "      <td>21</td>\n",
       "      <td>16</td>\n",
       "      <td>0</td>\n",
       "      <td>37</td>\n",
       "      <td>0.57</td>\n",
       "    </tr>\n",
       "    <tr>\n",
       "      <td>2090</td>\n",
       "      <td>Moura</td>\n",
       "      <td>Flavio Luiz</td>\n",
       "      <td></td>\n",
       "      <td>5' 11\"</td>\n",
       "      <td>183</td>\n",
       "      <td>--</td>\n",
       "      <td>Open Stance</td>\n",
       "      <td>17</td>\n",
       "      <td>7</td>\n",
       "      <td>0</td>\n",
       "      <td>24</td>\n",
       "      <td>0.71</td>\n",
       "    </tr>\n",
       "    <tr>\n",
       "      <td>2458</td>\n",
       "      <td>Quarry</td>\n",
       "      <td>Nate</td>\n",
       "      <td>Rock</td>\n",
       "      <td>6' 0\"</td>\n",
       "      <td>185</td>\n",
       "      <td>72.0</td>\n",
       "      <td>Open Stance</td>\n",
       "      <td>12</td>\n",
       "      <td>4</td>\n",
       "      <td>0</td>\n",
       "      <td>16</td>\n",
       "      <td>0.75</td>\n",
       "    </tr>\n",
       "    <tr>\n",
       "      <td>2614</td>\n",
       "      <td>Rothaermel</td>\n",
       "      <td>Kristian</td>\n",
       "      <td></td>\n",
       "      <td>6' 0\"</td>\n",
       "      <td>205</td>\n",
       "      <td>--</td>\n",
       "      <td>Open Stance</td>\n",
       "      <td>4</td>\n",
       "      <td>3</td>\n",
       "      <td>0</td>\n",
       "      <td>7</td>\n",
       "      <td>0.57</td>\n",
       "    </tr>\n",
       "  </tbody>\n",
       "</table>\n",
       "</div>"
      ],
      "text/plain": [
       "        last_name   first_name    nick_name  height weight reach       stance  \\\n",
       "59          Allen       George                6' 2\"    205    --  Open Stance   \n",
       "939   Foupa-Pokam       Xavier  Professor X   6' 1\"    185    --  Open Stance   \n",
       "2090        Moura  Flavio Luiz               5' 11\"    183    --  Open Stance   \n",
       "2458       Quarry         Nate         Rock   6' 0\"    185  72.0  Open Stance   \n",
       "2614   Rothaermel     Kristian                6' 0\"    205    --  Open Stance   \n",
       "\n",
       "      wins  losses  draws  total_fights  win_ratio  \n",
       "59      13      19      2            34       0.38  \n",
       "939     21      16      0            37       0.57  \n",
       "2090    17       7      0            24       0.71  \n",
       "2458    12       4      0            16       0.75  \n",
       "2614     4       3      0             7       0.57  "
      ]
     },
     "execution_count": 55,
     "metadata": {},
     "output_type": "execute_result"
    }
   ],
   "source": [
    "open_df = fighter_df[fighter_df[\"stance\"] == \"Open Stance\"]\n",
    "open_df.head()"
   ]
  },
  {
   "cell_type": "code",
   "execution_count": 56,
   "metadata": {
    "Collapsed": "false"
   },
   "outputs": [
    {
     "data": {
      "text/html": [
       "<div>\n",
       "<style scoped>\n",
       "    .dataframe tbody tr th:only-of-type {\n",
       "        vertical-align: middle;\n",
       "    }\n",
       "\n",
       "    .dataframe tbody tr th {\n",
       "        vertical-align: top;\n",
       "    }\n",
       "\n",
       "    .dataframe thead th {\n",
       "        text-align: right;\n",
       "    }\n",
       "</style>\n",
       "<table border=\"1\" class=\"dataframe\">\n",
       "  <thead>\n",
       "    <tr style=\"text-align: right;\">\n",
       "      <th></th>\n",
       "      <th>last_name</th>\n",
       "      <th>first_name</th>\n",
       "      <th>nick_name</th>\n",
       "      <th>height</th>\n",
       "      <th>weight</th>\n",
       "      <th>reach</th>\n",
       "      <th>stance</th>\n",
       "      <th>wins</th>\n",
       "      <th>losses</th>\n",
       "      <th>draws</th>\n",
       "      <th>total_fights</th>\n",
       "      <th>win_ratio</th>\n",
       "    </tr>\n",
       "  </thead>\n",
       "  <tbody>\n",
       "    <tr>\n",
       "      <td>2175</td>\n",
       "      <td>Newton</td>\n",
       "      <td>Jeff</td>\n",
       "      <td></td>\n",
       "      <td>6' 2\"</td>\n",
       "      <td>205</td>\n",
       "      <td>--</td>\n",
       "      <td>Sideways</td>\n",
       "      <td>4</td>\n",
       "      <td>2</td>\n",
       "      <td>0</td>\n",
       "      <td>6</td>\n",
       "      <td>0.67</td>\n",
       "    </tr>\n",
       "  </tbody>\n",
       "</table>\n",
       "</div>"
      ],
      "text/plain": [
       "     last_name first_name nick_name height weight reach    stance  wins  \\\n",
       "2175    Newton       Jeff            6' 2\"    205    --  Sideways     4   \n",
       "\n",
       "      losses  draws  total_fights  win_ratio  \n",
       "2175       2      0             6       0.67  "
      ]
     },
     "execution_count": 56,
     "metadata": {},
     "output_type": "execute_result"
    }
   ],
   "source": [
    "sideways_df = fighter_df[fighter_df[\"stance\"] == \"Sideways\"]\n",
    "sideways_df.head()"
   ]
  },
  {
   "cell_type": "code",
   "execution_count": 57,
   "metadata": {
    "Collapsed": "false"
   },
   "outputs": [
    {
     "name": "stdout",
     "output_type": "stream",
     "text": [
      "The total number of Orthodox fighters is 1886\n",
      "The total number of Southpaw fighters is 430\n",
      "The total number of Switch fighters is 98\n",
      "The total number of Open Stance fighters is 6\n",
      "The total number of Sideways fighters is 1\n"
     ]
    }
   ],
   "source": [
    "print(f\"The total number of Orthodox fighters is {len(orthodox_df)}\")\n",
    "print(f\"The total number of Southpaw fighters is {len(southpaw_df)}\")\n",
    "print(f\"The total number of Switch fighters is {len(switch_df)}\")\n",
    "print(f\"The total number of Open Stance fighters is {len(open_df)}\")\n",
    "print(f\"The total number of Sideways fighters is {len(sideways_df)}\")"
   ]
  },
  {
   "cell_type": "code",
   "execution_count": 58,
   "metadata": {
    "Collapsed": "false"
   },
   "outputs": [],
   "source": [
    "fighter_df = fighter_df[fighter_df[\"stance\"] != \"Open Stance\"]\n",
    "fighter_df = fighter_df[fighter_df[\"stance\"] != \"Sideways\"]"
   ]
  },
  {
   "cell_type": "code",
   "execution_count": 61,
   "metadata": {
    "Collapsed": "false"
   },
   "outputs": [
    {
     "data": {
      "image/png": "[encoded data removed]",
      "text/plain": [
       "<Figure size 1080x576 with 1 Axes>"
      ]
     },
     "metadata": {
      "needs_background": "light"
     },
     "output_type": "display_data"
    }
   ],
   "source": [
    "plt.figure(figsize=(15,8))\n",
    "# sns.set_style(\"whitegrid\")\n",
    "sns.set_palette(\"Reds\", 4)\n",
    "sns.boxplot(x=\"stance\",y=\"win_ratio\",data=fighter_df,order=[\"Orthodox\", \"Southpaw\", \"Switch\"])\n",
    "sns.stripplot(x=\"stance\", y=\"win_ratio\", data=fighter_df, order=[\"Orthodox\", \"Southpaw\", \"Switch\"], jitter=0.4, color=\"0.3\")\n",
    "plt.title(\"Boxplot of UFC Fighter's Win Ratios Grouped by Fighting Stance\", fontsize=16)\n",
    "plt.xlabel(\"\")\n",
    "plt.xticks([0,1,2],[\"Orthodox\",\"Southpaw\",\"Switch\"],fontsize=13)\n",
    "plt.ylabel(\"Win Ratio (Total Wins / Total Fights)\", fontsize=13)\n",
    "\n",
    "file_path = \"/Users/ravimalde/data_science/projects/ufc_fighter_stance/\"\n",
    "plt.savefig(file_path + \"boxplot.png\")\n",
    "\n",
    "plt.show()"
   ]
  },
  {
   "cell_type": "code",
   "execution_count": 62,
   "metadata": {
    "Collapsed": "false"
   },
   "outputs": [
    {
     "data": {
      "image/png": "[encoded data removed]",
      "text/plain": [
       "<Figure size 1080x576 with 1 Axes>"
      ]
     },
     "metadata": {
      "needs_background": "light"
     },
     "output_type": "display_data"
    }
   ],
   "source": [
    "stance_model = ols(\"win_ratio ~ C(stance)\", data=fighter_df).fit()\n",
    "residuals = stance_model.resid\n",
    "\n",
    "fig = sm.graphics.qqplot(residuals, dist=stats.norm, line='45', fit=True)\n",
    "\n",
    "ax = plt.gca()\n",
    "fig.set_size_inches(15, 8)\n",
    "ax.set_xlabel(\"Theoretical Quantiles\", fontsize=13)\n",
    "ax.set_ylabel(\"Sample Quantiles\", fontsize=13)\n",
    "ax.set_title(\"Q-Q Plot of Residuals\", fontsize=16)\n",
    "\n",
    "file_path = \"/Users/ravimalde/data_science/projects/ufc_fighter_stance/\"\n",
    "plt.savefig(file_path + \"residuals.png\")\n",
    "\n",
    "plt.show()"
   ]
  },
  {
   "cell_type": "code",
   "execution_count": 63,
   "metadata": {
    "Collapsed": "false"
   },
   "outputs": [
    {
     "data": {
      "text/plain": [
       "LeveneResult(statistic=0.7024736766115796, pvalue=0.4954597884510139)"
      ]
     },
     "execution_count": 63,
     "metadata": {},
     "output_type": "execute_result"
    }
   ],
   "source": [
    "homoscedasticity_test = stats.levene(orthodox_df.win_ratio, southpaw_df.win_ratio, switch_df.win_ratio)\n",
    "homoscedasticity_test\n",
    "\n",
    "# P-value is > 0.05, therefore the datasets are homoscedastic"
   ]
  },
  {
   "cell_type": "code",
   "execution_count": 64,
   "metadata": {
    "Collapsed": "false"
   },
   "outputs": [
    {
     "data": {
      "text/html": [
       "<div>\n",
       "<style scoped>\n",
       "    .dataframe tbody tr th:only-of-type {\n",
       "        vertical-align: middle;\n",
       "    }\n",
       "\n",
       "    .dataframe tbody tr th {\n",
       "        vertical-align: top;\n",
       "    }\n",
       "\n",
       "    .dataframe thead th {\n",
       "        text-align: right;\n",
       "    }\n",
       "</style>\n",
       "<table border=\"1\" class=\"dataframe\">\n",
       "  <thead>\n",
       "    <tr style=\"text-align: right;\">\n",
       "      <th></th>\n",
       "      <th>df</th>\n",
       "      <th>sum_sq</th>\n",
       "      <th>mean_sq</th>\n",
       "      <th>F</th>\n",
       "      <th>PR(&gt;F)</th>\n",
       "    </tr>\n",
       "  </thead>\n",
       "  <tbody>\n",
       "    <tr>\n",
       "      <td>C(stance)</td>\n",
       "      <td>2.0</td>\n",
       "      <td>0.453375</td>\n",
       "      <td>0.226688</td>\n",
       "      <td>11.44586</td>\n",
       "      <td>0.000011</td>\n",
       "    </tr>\n",
       "    <tr>\n",
       "      <td>Residual</td>\n",
       "      <td>2411.0</td>\n",
       "      <td>47.750370</td>\n",
       "      <td>0.019805</td>\n",
       "      <td>NaN</td>\n",
       "      <td>NaN</td>\n",
       "    </tr>\n",
       "  </tbody>\n",
       "</table>\n",
       "</div>"
      ],
      "text/plain": [
       "               df     sum_sq   mean_sq         F    PR(>F)\n",
       "C(stance)     2.0   0.453375  0.226688  11.44586  0.000011\n",
       "Residual   2411.0  47.750370  0.019805       NaN       NaN"
      ]
     },
     "execution_count": 64,
     "metadata": {},
     "output_type": "execute_result"
    }
   ],
   "source": [
    "lm = ols('win_ratio ~ C(stance) ',data=fighter_df).fit()\n",
    "table = sm.stats.anova_lm(lm)\n",
    "table"
   ]
  },
  {
   "cell_type": "code",
   "execution_count": 65,
   "metadata": {
    "Collapsed": "false"
   },
   "outputs": [
    {
     "data": {
      "text/plain": [
       "(array([ True]), array([1.2e-05]), 0.050000000000000044, 0.05)"
      ]
     },
     "execution_count": 65,
     "metadata": {},
     "output_type": "execute_result"
    }
   ],
   "source": [
    "p_adjusted = multipletests(0.000012, alpha= 0.05, method='bonferroni')\n",
    "p_adjusted"
   ]
  },
  {
   "cell_type": "code",
   "execution_count": 82,
   "metadata": {
    "Collapsed": "false"
   },
   "outputs": [
    {
     "name": "stdout",
     "output_type": "stream",
     "text": [
      "  Multiple Comparison of Means - Tukey HSD, FWER=0.05  \n",
      "=======================================================\n",
      " group1   group2  meandiff p-adj   lower  upper  reject\n",
      "-------------------------------------------------------\n",
      "Orthodox Southpaw   0.0042 0.8275 -0.0135 0.0218  False\n",
      "Orthodox   Switch   0.0697  0.001  0.0356 0.1039   True\n",
      "Southpaw   Switch   0.0656  0.001  0.0286 0.1025   True\n",
      "-------------------------------------------------------\n",
      "['Orthodox' 'Southpaw' 'Switch']\n"
     ]
    }
   ],
   "source": [
    "mc = pairwise_tukeyhsd(fighter_df['win_ratio'], fighter_df['stance'])\n",
    "result = mc._results_table\n",
    "\n",
    "print(result)\n",
    "print(mc.groupsunique)"
   ]
  },
  {
   "cell_type": "code",
   "execution_count": 83,
   "metadata": {
    "Collapsed": "false"
   },
   "outputs": [],
   "source": [
    "orthodox_mean = orthodox_df[\"win_ratio\"].mean()\n",
    "southpaw_mean = southpaw_df[\"win_ratio\"].mean()\n",
    "switch_mean = switch_df[\"win_ratio\"].mean()\n",
    "\n",
    "orthodox_std = orthodox_df[\"win_ratio\"].std()\n",
    "southpaw_std = southpaw_df[\"win_ratio\"].std()\n",
    "switch_std = switch_df[\"win_ratio\"].std()"
   ]
  },
  {
   "cell_type": "code",
   "execution_count": 84,
   "metadata": {
    "Collapsed": "false"
   },
   "outputs": [
    {
     "data": {
      "text/plain": [
       "0.02963274833540131"
      ]
     },
     "execution_count": 84,
     "metadata": {},
     "output_type": "execute_result"
    }
   ],
   "source": [
    "cohens_d_southpaw_orthodox = (southpaw_mean - orthodox_mean)/(((southpaw_std**2 + orthodox_std**2)/2)**0.5)\n",
    "cohens_d_southpaw_orthodox"
   ]
  },
  {
   "cell_type": "code",
   "execution_count": 85,
   "metadata": {
    "Collapsed": "false"
   },
   "outputs": [
    {
     "data": {
      "text/plain": [
       "0.5011697566068546"
      ]
     },
     "execution_count": 85,
     "metadata": {},
     "output_type": "execute_result"
    }
   ],
   "source": [
    "cohens_d_switch_orthodox = (switch_mean - orthodox_mean)/(((switch_std**2 + orthodox_std**2)/2)**0.5)\n",
    "cohens_d_switch_orthodox"
   ]
  },
  {
   "cell_type": "code",
   "execution_count": 86,
   "metadata": {
    "Collapsed": "false"
   },
   "outputs": [
    {
     "data": {
      "text/plain": [
       "0.4747048780639266"
      ]
     },
     "execution_count": 86,
     "metadata": {},
     "output_type": "execute_result"
    }
   ],
   "source": [
    "cohens_d_southpaw_switch = (switch_mean - southpaw_mean)/(((switch_std**2 + southpaw_std**2)/2)**0.5)\n",
    "cohens_d_southpaw_switch"
   ]
  },
  {
   "cell_type": "code",
   "execution_count": 87,
   "metadata": {
    "Collapsed": "false"
   },
   "outputs": [
    {
     "name": "stdout",
     "output_type": "stream",
     "text": [
      "{'Orthodox': 0.6966808059384944, 'Southpaw': 0.7008372093023258, 'Switch': 0.7664285714285715}\n"
     ]
    }
   ],
   "source": [
    "orthodox_southpaw_switch_dict = {'Orthodox':orthodox_mean, 'Southpaw':southpaw_mean, 'Switch':switch_mean}\n",
    "print(orthodox_southpaw_switch_dict)"
   ]
  }
 ],
 "metadata": {
  "kernelspec": {
   "display_name": "Python 3",
   "language": "python",
   "name": "python3"
  },
  "language_info": {
   "codemirror_mode": {
    "name": "ipython",
    "version": 3
   },
   "file_extension": ".py",
   "mimetype": "text/x-python",
   "name": "python",
   "nbconvert_exporter": "python",
   "pygments_lexer": "ipython3",
   "version": "3.7.4"
  }
 },
 "nbformat": 4,
 "nbformat_minor": 4
}
