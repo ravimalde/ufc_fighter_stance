{
 "cells": [
  {
   "cell_type": "code",
   "execution_count": 72,
   "metadata": {
    "Collapsed": "false"
   },
   "outputs": [],
   "source": [
    "from bs4 import BeautifulSoup\n",
    "import requests\n",
    "\n",
    "import numpy as np\n",
    "import pandas as pd\n",
    "\n",
    "import seaborn as sns\n",
    "import matplotlib.pyplot as plt\n",
    "\n",
    "import statsmodels.api as sm\n",
    "from statsmodels.formula.api import ols\n",
    "import scipy.stats as stats\n",
    "from scipy.stats import levene\n",
    "from statsmodels.stats.multitest import multipletests\n",
    "from statsmodels.stats.multicomp import pairwise_tukeyhsd\n",
    "\n",
    "import string\n",
    "import time"
   ]
  },
  {
   "cell_type": "code",
   "execution_count": 3,
   "metadata": {
    "Collapsed": "false"
   },
   "outputs": [],
   "source": [
    "alphabet = string.ascii_lowercase\n",
    "\n",
    "fighter_details = {}\n",
    "\n",
    "for letter in alphabet:\n",
    "\n",
    "    response = requests.get(f\"http://www.ufcstats.com/statistics/fighters?char={letter}&page=all\")\n",
    "    \n",
    "    soup = BeautifulSoup(response.text, \"lxml\")\n",
    "    \n",
    "    fighter_details[letter] = soup.find_all(\"td\",{'class':'b-statistics__table-col'})\n",
    "    "
   ]
  },
  {
   "cell_type": "code",
   "execution_count": 4,
   "metadata": {
    "Collapsed": "false",
    "scrolled": true
   },
   "outputs": [],
   "source": [
    "# fighter_details"
   ]
  },
  {
   "cell_type": "code",
   "execution_count": 5,
   "metadata": {
    "Collapsed": "false"
   },
   "outputs": [],
   "source": [
    "fighter_first_names = []\n",
    "\n",
    "for key, value in fighter_details.items():\n",
    "    for fighter in np.arange(0, len(fighter_details[key]), 11):\n",
    "        fighter_first_name = value[fighter].text.split(\"\\n\")[1]\n",
    "        fighter_first_names.append(fighter_first_name)"
   ]
  },
  {
   "cell_type": "code",
   "execution_count": 6,
   "metadata": {
    "Collapsed": "false"
   },
   "outputs": [
    {
     "data": {
      "text/plain": [
       "3412"
      ]
     },
     "execution_count": 6,
     "metadata": {},
     "output_type": "execute_result"
    }
   ],
   "source": [
    "len(fighter_first_names)"
   ]
  },
  {
   "cell_type": "code",
   "execution_count": 7,
   "metadata": {
    "Collapsed": "false"
   },
   "outputs": [],
   "source": [
    "# fighter_first_names"
   ]
  },
  {
   "cell_type": "code",
   "execution_count": 8,
   "metadata": {
    "Collapsed": "false"
   },
   "outputs": [],
   "source": [
    "fighter_last_names = []\n",
    "\n",
    "for key, value in fighter_details.items():\n",
    "    for fighter in np.arange(1, len(fighter_details[key]) + 1, 11):\n",
    "        fighter_last_name = value[fighter].text.split(\"\\n\")[1]\n",
    "        fighter_last_names.append(fighter_last_name)"
   ]
  },
  {
   "cell_type": "code",
   "execution_count": 9,
   "metadata": {
    "Collapsed": "false"
   },
   "outputs": [
    {
     "data": {
      "text/plain": [
       "3412"
      ]
     },
     "execution_count": 9,
     "metadata": {},
     "output_type": "execute_result"
    }
   ],
   "source": [
    "len(fighter_last_names)"
   ]
  },
  {
   "cell_type": "code",
   "execution_count": 10,
   "metadata": {
    "Collapsed": "false"
   },
   "outputs": [],
   "source": [
    "# fighter_last_names"
   ]
  },
  {
   "cell_type": "code",
   "execution_count": 11,
   "metadata": {
    "Collapsed": "false"
   },
   "outputs": [],
   "source": [
    "fighter_nick_names = []\n",
    "\n",
    "for key, value in fighter_details.items():\n",
    "    for fighter in np.arange(2, len(fighter_details[key]) + 2, 11):\n",
    "        fighter_nick_name = value[fighter].text.split(\"\\n\")[1]\n",
    "        fighter_nick_names.append(fighter_nick_name)"
   ]
  },
  {
   "cell_type": "code",
   "execution_count": 12,
   "metadata": {
    "Collapsed": "false"
   },
   "outputs": [
    {
     "data": {
      "text/plain": [
       "3412"
      ]
     },
     "execution_count": 12,
     "metadata": {},
     "output_type": "execute_result"
    }
   ],
   "source": [
    "len(fighter_nick_names)"
   ]
  },
  {
   "cell_type": "code",
   "execution_count": 13,
   "metadata": {
    "Collapsed": "false"
   },
   "outputs": [],
   "source": [
    "# fighter_nick_names"
   ]
  },
  {
   "cell_type": "code",
   "execution_count": 14,
   "metadata": {
    "Collapsed": "false"
   },
   "outputs": [],
   "source": [
    "fighter_heights = []\n",
    "\n",
    "for key, value in fighter_details.items():\n",
    "    for fighter in np.arange(3, len(fighter_details[key]) + 3, 11):\n",
    "        fighter_height = value[fighter].text.split(\"\\n\")[1][10:]\n",
    "        fighter_heights.append(fighter_height)"
   ]
  },
  {
   "cell_type": "code",
   "execution_count": 15,
   "metadata": {
    "Collapsed": "false"
   },
   "outputs": [
    {
     "data": {
      "text/plain": [
       "3412"
      ]
     },
     "execution_count": 15,
     "metadata": {},
     "output_type": "execute_result"
    }
   ],
   "source": [
    "len(fighter_heights)"
   ]
  },
  {
   "cell_type": "code",
   "execution_count": 16,
   "metadata": {
    "Collapsed": "false"
   },
   "outputs": [],
   "source": [
    "# fighter_heights"
   ]
  },
  {
   "cell_type": "code",
   "execution_count": 17,
   "metadata": {
    "Collapsed": "false"
   },
   "outputs": [],
   "source": [
    "fighter_weights = []\n",
    "\n",
    "for key, value in fighter_details.items():\n",
    "    for fighter in np.arange(4, len(fighter_details[key]) + 4, 11):\n",
    "        fighter_weight = value[fighter].text.split(\"\\n\")[1][10:13]\n",
    "        fighter_weights.append(fighter_weight)"
   ]
  },
  {
   "cell_type": "code",
   "execution_count": 18,
   "metadata": {
    "Collapsed": "false"
   },
   "outputs": [
    {
     "data": {
      "text/plain": [
       "3412"
      ]
     },
     "execution_count": 18,
     "metadata": {},
     "output_type": "execute_result"
    }
   ],
   "source": [
    "len(fighter_weights)"
   ]
  },
  {
   "cell_type": "code",
   "execution_count": 19,
   "metadata": {
    "Collapsed": "false"
   },
   "outputs": [],
   "source": [
    "# fighter_weights"
   ]
  },
  {
   "cell_type": "code",
   "execution_count": 20,
   "metadata": {
    "Collapsed": "false"
   },
   "outputs": [],
   "source": [
    "fighter_reaches = []\n",
    "\n",
    "for key, value in fighter_details.items():\n",
    "    for fighter in np.arange(5, len(fighter_details[key]) + 5, 11):\n",
    "        fighter_reach = value[fighter].text.split(\"\\n\")[1][10:14]\n",
    "        fighter_reaches.append(fighter_reach)"
   ]
  },
  {
   "cell_type": "code",
   "execution_count": 21,
   "metadata": {
    "Collapsed": "false"
   },
   "outputs": [
    {
     "data": {
      "text/plain": [
       "3412"
      ]
     },
     "execution_count": 21,
     "metadata": {},
     "output_type": "execute_result"
    }
   ],
   "source": [
    "len(fighter_reaches)"
   ]
  },
  {
   "cell_type": "code",
   "execution_count": 22,
   "metadata": {
    "Collapsed": "false",
    "scrolled": true
   },
   "outputs": [],
   "source": [
    "# fighter_reaches"
   ]
  },
  {
   "cell_type": "code",
   "execution_count": 23,
   "metadata": {
    "Collapsed": "false"
   },
   "outputs": [],
   "source": [
    "fighter_stances = []\n",
    "\n",
    "for key, value in fighter_details.items():\n",
    "    for fighter in np.arange(6, len(fighter_details[key]) + 6, 11):\n",
    "        fighter_stance = value[fighter].text.split(\"\\n\")[1][10:]\n",
    "        fighter_stances.append(fighter_stance)"
   ]
  },
  {
   "cell_type": "code",
   "execution_count": 24,
   "metadata": {
    "Collapsed": "false"
   },
   "outputs": [
    {
     "data": {
      "text/plain": [
       "3412"
      ]
     },
     "execution_count": 24,
     "metadata": {},
     "output_type": "execute_result"
    }
   ],
   "source": [
    "len(fighter_stances)"
   ]
  },
  {
   "cell_type": "code",
   "execution_count": 25,
   "metadata": {
    "Collapsed": "false"
   },
   "outputs": [],
   "source": [
    "# fighter_stances"
   ]
  },
  {
   "cell_type": "code",
   "execution_count": 26,
   "metadata": {
    "Collapsed": "false"
   },
   "outputs": [],
   "source": [
    "fighter_wins = []\n",
    "\n",
    "for key, value in fighter_details.items():\n",
    "    for fighter in np.arange(7, len(fighter_details[key]) + 7, 11):\n",
    "        fighter_win = value[fighter].text.split(\"\\n\")[1][10:]\n",
    "        fighter_wins.append(fighter_win)"
   ]
  },
  {
   "cell_type": "code",
   "execution_count": 27,
   "metadata": {
    "Collapsed": "false"
   },
   "outputs": [
    {
     "data": {
      "text/plain": [
       "3412"
      ]
     },
     "execution_count": 27,
     "metadata": {},
     "output_type": "execute_result"
    }
   ],
   "source": [
    "len(fighter_wins)"
   ]
  },
  {
   "cell_type": "code",
   "execution_count": 28,
   "metadata": {
    "Collapsed": "false"
   },
   "outputs": [],
   "source": [
    "# fighter_wins"
   ]
  },
  {
   "cell_type": "code",
   "execution_count": 29,
   "metadata": {
    "Collapsed": "false"
   },
   "outputs": [],
   "source": [
    "fighter_losses = []\n",
    "\n",
    "for key, value in fighter_details.items():\n",
    "    for fighter in np.arange(8, len(fighter_details[key]) + 8, 11):\n",
    "        fighter_loss = value[fighter].text.split(\"\\n\")[1][10:]\n",
    "        fighter_losses.append(fighter_loss)"
   ]
  },
  {
   "cell_type": "code",
   "execution_count": 30,
   "metadata": {
    "Collapsed": "false"
   },
   "outputs": [
    {
     "data": {
      "text/plain": [
       "3412"
      ]
     },
     "execution_count": 30,
     "metadata": {},
     "output_type": "execute_result"
    }
   ],
   "source": [
    "len(fighter_losses)"
   ]
  },
  {
   "cell_type": "code",
   "execution_count": 31,
   "metadata": {
    "Collapsed": "false"
   },
   "outputs": [],
   "source": [
    "# fighter_losses"
   ]
  },
  {
   "cell_type": "code",
   "execution_count": 32,
   "metadata": {
    "Collapsed": "false"
   },
   "outputs": [],
   "source": [
    "fighter_draws = []\n",
    "\n",
    "for key, value in fighter_details.items():\n",
    "    for fighter in np.arange(9, len(fighter_details[key]) + 9, 11):\n",
    "        fighter_draw = value[fighter].text.split(\"\\n\")[1][10:]\n",
    "        fighter_draws.append(fighter_draw)"
   ]
  },
  {
   "cell_type": "code",
   "execution_count": 33,
   "metadata": {
    "Collapsed": "false"
   },
   "outputs": [
    {
     "data": {
      "text/plain": [
       "3412"
      ]
     },
     "execution_count": 33,
     "metadata": {},
     "output_type": "execute_result"
    }
   ],
   "source": [
    "len(fighter_draws)"
   ]
  },
  {
   "cell_type": "code",
   "execution_count": 34,
   "metadata": {
    "Collapsed": "false"
   },
   "outputs": [],
   "source": [
    "# fighter_draws"
   ]
  },
  {
   "cell_type": "code",
   "execution_count": 35,
   "metadata": {
    "Collapsed": "false"
   },
   "outputs": [],
   "source": [
    "fighter_df = pd.DataFrame(fighter_last_names)\n",
    "fighter_df.rename(columns={0:\"last_name\"}, inplace = True)\n",
    "\n",
    "fighter_df[\"first_name\"] = fighter_first_names\n",
    "fighter_df[\"nick_name\"] = fighter_nick_names\n",
    "fighter_df[\"height\"] = fighter_heights\n",
    "fighter_df[\"weight\"] = fighter_weights\n",
    "fighter_df[\"reach\"] = fighter_reaches\n",
    "fighter_df[\"stance\"] = fighter_stances\n",
    "fighter_df[\"wins\"] = fighter_wins\n",
    "fighter_df[\"losses\"] = fighter_losses\n",
    "fighter_df[\"draws\"] = fighter_draws"
   ]
  },
  {
   "cell_type": "code",
   "execution_count": 36,
   "metadata": {
    "Collapsed": "false"
   },
   "outputs": [
    {
     "data": {
      "text/html": [
       "<div>\n",
       "<style scoped>\n",
       "    .dataframe tbody tr th:only-of-type {\n",
       "        vertical-align: middle;\n",
       "    }\n",
       "\n",
       "    .dataframe tbody tr th {\n",
       "        vertical-align: top;\n",
       "    }\n",
       "\n",
       "    .dataframe thead th {\n",
       "        text-align: right;\n",
       "    }\n",
       "</style>\n",
       "<table border=\"1\" class=\"dataframe\">\n",
       "  <thead>\n",
       "    <tr style=\"text-align: right;\">\n",
       "      <th></th>\n",
       "      <th>last_name</th>\n",
       "      <th>first_name</th>\n",
       "      <th>nick_name</th>\n",
       "      <th>height</th>\n",
       "      <th>weight</th>\n",
       "      <th>reach</th>\n",
       "      <th>stance</th>\n",
       "      <th>wins</th>\n",
       "      <th>losses</th>\n",
       "      <th>draws</th>\n",
       "    </tr>\n",
       "  </thead>\n",
       "  <tbody>\n",
       "    <tr>\n",
       "      <th>0</th>\n",
       "      <td>Aaron</td>\n",
       "      <td>Tom</td>\n",
       "      <td></td>\n",
       "      <td>--</td>\n",
       "      <td>155</td>\n",
       "      <td>--</td>\n",
       "      <td></td>\n",
       "      <td>5</td>\n",
       "      <td>3</td>\n",
       "      <td>0</td>\n",
       "    </tr>\n",
       "    <tr>\n",
       "      <th>1</th>\n",
       "      <td>Abbadi</td>\n",
       "      <td>Danny</td>\n",
       "      <td>The Assassin</td>\n",
       "      <td>5' 11\"</td>\n",
       "      <td>155</td>\n",
       "      <td>--</td>\n",
       "      <td>Orthodox</td>\n",
       "      <td>4</td>\n",
       "      <td>6</td>\n",
       "      <td>0</td>\n",
       "    </tr>\n",
       "    <tr>\n",
       "      <th>2</th>\n",
       "      <td>Abbott</td>\n",
       "      <td>David</td>\n",
       "      <td>Tank</td>\n",
       "      <td>6' 0\"</td>\n",
       "      <td>265</td>\n",
       "      <td>--</td>\n",
       "      <td>Switch</td>\n",
       "      <td>10</td>\n",
       "      <td>14</td>\n",
       "      <td>0</td>\n",
       "    </tr>\n",
       "    <tr>\n",
       "      <th>3</th>\n",
       "      <td>Abdurakhimov</td>\n",
       "      <td>Shamil</td>\n",
       "      <td>Abrek</td>\n",
       "      <td>6' 3\"</td>\n",
       "      <td>235</td>\n",
       "      <td>76.0</td>\n",
       "      <td>Orthodox</td>\n",
       "      <td>20</td>\n",
       "      <td>5</td>\n",
       "      <td>0</td>\n",
       "    </tr>\n",
       "    <tr>\n",
       "      <th>4</th>\n",
       "      <td>Abe</td>\n",
       "      <td>Hiroyuki</td>\n",
       "      <td>Abe Ani</td>\n",
       "      <td>5' 6\"</td>\n",
       "      <td>145</td>\n",
       "      <td>--</td>\n",
       "      <td>Orthodox</td>\n",
       "      <td>8</td>\n",
       "      <td>14</td>\n",
       "      <td>3</td>\n",
       "    </tr>\n",
       "  </tbody>\n",
       "</table>\n",
       "</div>"
      ],
      "text/plain": [
       "      last_name first_name     nick_name  height weight reach    stance wins  \\\n",
       "0         Aaron        Tom                    --    155    --              5   \n",
       "1        Abbadi      Danny  The Assassin  5' 11\"    155    --  Orthodox    4   \n",
       "2        Abbott      David          Tank   6' 0\"    265    --    Switch   10   \n",
       "3  Abdurakhimov     Shamil         Abrek   6' 3\"    235  76.0  Orthodox   20   \n",
       "4           Abe   Hiroyuki       Abe Ani   5' 6\"    145    --  Orthodox    8   \n",
       "\n",
       "  losses draws  \n",
       "0      3     0  \n",
       "1      6     0  \n",
       "2     14     0  \n",
       "3      5     0  \n",
       "4     14     3  "
      ]
     },
     "execution_count": 36,
     "metadata": {},
     "output_type": "execute_result"
    }
   ],
   "source": [
    "fighter_df.head()"
   ]
  },
  {
   "cell_type": "code",
   "execution_count": 37,
   "metadata": {
    "Collapsed": "false"
   },
   "outputs": [
    {
     "data": {
      "text/plain": [
       "3412"
      ]
     },
     "execution_count": 37,
     "metadata": {},
     "output_type": "execute_result"
    }
   ],
   "source": [
    "len(fighter_df)"
   ]
  },
  {
   "cell_type": "code",
   "execution_count": 38,
   "metadata": {
    "Collapsed": "false"
   },
   "outputs": [
    {
     "name": "stdout",
     "output_type": "stream",
     "text": [
      "<class 'pandas.core.frame.DataFrame'>\n",
      "RangeIndex: 3412 entries, 0 to 3411\n",
      "Data columns (total 10 columns):\n",
      " #   Column      Non-Null Count  Dtype \n",
      "---  ------      --------------  ----- \n",
      " 0   last_name   3412 non-null   object\n",
      " 1   first_name  3412 non-null   object\n",
      " 2   nick_name   3412 non-null   object\n",
      " 3   height      3412 non-null   object\n",
      " 4   weight      3412 non-null   object\n",
      " 5   reach       3412 non-null   object\n",
      " 6   stance      3412 non-null   object\n",
      " 7   wins        3412 non-null   object\n",
      " 8   losses      3412 non-null   object\n",
      " 9   draws       3412 non-null   object\n",
      "dtypes: object(10)\n",
      "memory usage: 266.7+ KB\n"
     ]
    }
   ],
   "source": [
    "fighter_df.info()"
   ]
  },
  {
   "cell_type": "code",
   "execution_count": 39,
   "metadata": {
    "Collapsed": "false"
   },
   "outputs": [],
   "source": [
    "fighter_df[\"wins\"] = fighter_df[\"wins\"].astype(int)\n",
    "fighter_df[\"losses\"] = fighter_df[\"losses\"].astype(int)\n",
    "fighter_df[\"draws\"] = fighter_df[\"draws\"].astype(int)"
   ]
  },
  {
   "cell_type": "code",
   "execution_count": 40,
   "metadata": {
    "Collapsed": "false"
   },
   "outputs": [
    {
     "name": "stdout",
     "output_type": "stream",
     "text": [
      "<class 'pandas.core.frame.DataFrame'>\n",
      "RangeIndex: 3412 entries, 0 to 3411\n",
      "Data columns (total 10 columns):\n",
      " #   Column      Non-Null Count  Dtype \n",
      "---  ------      --------------  ----- \n",
      " 0   last_name   3412 non-null   object\n",
      " 1   first_name  3412 non-null   object\n",
      " 2   nick_name   3412 non-null   object\n",
      " 3   height      3412 non-null   object\n",
      " 4   weight      3412 non-null   object\n",
      " 5   reach       3412 non-null   object\n",
      " 6   stance      3412 non-null   object\n",
      " 7   wins        3412 non-null   int64 \n",
      " 8   losses      3412 non-null   int64 \n",
      " 9   draws       3412 non-null   int64 \n",
      "dtypes: int64(3), object(7)\n",
      "memory usage: 266.7+ KB\n"
     ]
    }
   ],
   "source": [
    "fighter_df.info()"
   ]
  },
  {
   "cell_type": "code",
   "execution_count": 41,
   "metadata": {
    "Collapsed": "false",
    "scrolled": true
   },
   "outputs": [],
   "source": [
    "fighter_df[\"total_fights\"] = fighter_df.wins + fighter_df.losses + fighter_df.draws\n",
    "fighter_df[\"win_ratio\"] = round(fighter_df.wins/fighter_df.total_fights, 2)"
   ]
  },
  {
   "cell_type": "code",
   "execution_count": 42,
   "metadata": {
    "Collapsed": "false"
   },
   "outputs": [
    {
     "data": {
      "text/html": [
       "<div>\n",
       "<style scoped>\n",
       "    .dataframe tbody tr th:only-of-type {\n",
       "        vertical-align: middle;\n",
       "    }\n",
       "\n",
       "    .dataframe tbody tr th {\n",
       "        vertical-align: top;\n",
       "    }\n",
       "\n",
       "    .dataframe thead th {\n",
       "        text-align: right;\n",
       "    }\n",
       "</style>\n",
       "<table border=\"1\" class=\"dataframe\">\n",
       "  <thead>\n",
       "    <tr style=\"text-align: right;\">\n",
       "      <th></th>\n",
       "      <th>last_name</th>\n",
       "      <th>first_name</th>\n",
       "      <th>nick_name</th>\n",
       "      <th>height</th>\n",
       "      <th>weight</th>\n",
       "      <th>reach</th>\n",
       "      <th>stance</th>\n",
       "      <th>wins</th>\n",
       "      <th>losses</th>\n",
       "      <th>draws</th>\n",
       "      <th>total_fights</th>\n",
       "      <th>win_ratio</th>\n",
       "    </tr>\n",
       "  </thead>\n",
       "  <tbody>\n",
       "    <tr>\n",
       "      <th>0</th>\n",
       "      <td>Aaron</td>\n",
       "      <td>Tom</td>\n",
       "      <td></td>\n",
       "      <td>--</td>\n",
       "      <td>155</td>\n",
       "      <td>--</td>\n",
       "      <td></td>\n",
       "      <td>5</td>\n",
       "      <td>3</td>\n",
       "      <td>0</td>\n",
       "      <td>8</td>\n",
       "      <td>0.62</td>\n",
       "    </tr>\n",
       "    <tr>\n",
       "      <th>1</th>\n",
       "      <td>Abbadi</td>\n",
       "      <td>Danny</td>\n",
       "      <td>The Assassin</td>\n",
       "      <td>5' 11\"</td>\n",
       "      <td>155</td>\n",
       "      <td>--</td>\n",
       "      <td>Orthodox</td>\n",
       "      <td>4</td>\n",
       "      <td>6</td>\n",
       "      <td>0</td>\n",
       "      <td>10</td>\n",
       "      <td>0.40</td>\n",
       "    </tr>\n",
       "    <tr>\n",
       "      <th>2</th>\n",
       "      <td>Abbott</td>\n",
       "      <td>David</td>\n",
       "      <td>Tank</td>\n",
       "      <td>6' 0\"</td>\n",
       "      <td>265</td>\n",
       "      <td>--</td>\n",
       "      <td>Switch</td>\n",
       "      <td>10</td>\n",
       "      <td>14</td>\n",
       "      <td>0</td>\n",
       "      <td>24</td>\n",
       "      <td>0.42</td>\n",
       "    </tr>\n",
       "    <tr>\n",
       "      <th>3</th>\n",
       "      <td>Abdurakhimov</td>\n",
       "      <td>Shamil</td>\n",
       "      <td>Abrek</td>\n",
       "      <td>6' 3\"</td>\n",
       "      <td>235</td>\n",
       "      <td>76.0</td>\n",
       "      <td>Orthodox</td>\n",
       "      <td>20</td>\n",
       "      <td>5</td>\n",
       "      <td>0</td>\n",
       "      <td>25</td>\n",
       "      <td>0.80</td>\n",
       "    </tr>\n",
       "    <tr>\n",
       "      <th>4</th>\n",
       "      <td>Abe</td>\n",
       "      <td>Hiroyuki</td>\n",
       "      <td>Abe Ani</td>\n",
       "      <td>5' 6\"</td>\n",
       "      <td>145</td>\n",
       "      <td>--</td>\n",
       "      <td>Orthodox</td>\n",
       "      <td>8</td>\n",
       "      <td>14</td>\n",
       "      <td>3</td>\n",
       "      <td>25</td>\n",
       "      <td>0.32</td>\n",
       "    </tr>\n",
       "  </tbody>\n",
       "</table>\n",
       "</div>"
      ],
      "text/plain": [
       "      last_name first_name     nick_name  height weight reach    stance  wins  \\\n",
       "0         Aaron        Tom                    --    155    --               5   \n",
       "1        Abbadi      Danny  The Assassin  5' 11\"    155    --  Orthodox     4   \n",
       "2        Abbott      David          Tank   6' 0\"    265    --    Switch    10   \n",
       "3  Abdurakhimov     Shamil         Abrek   6' 3\"    235  76.0  Orthodox    20   \n",
       "4           Abe   Hiroyuki       Abe Ani   5' 6\"    145    --  Orthodox     8   \n",
       "\n",
       "   losses  draws  total_fights  win_ratio  \n",
       "0       3      0             8       0.62  \n",
       "1       6      0            10       0.40  \n",
       "2      14      0            24       0.42  \n",
       "3       5      0            25       0.80  \n",
       "4      14      3            25       0.32  "
      ]
     },
     "execution_count": 42,
     "metadata": {},
     "output_type": "execute_result"
    }
   ],
   "source": [
    "fighter_df.head()"
   ]
  },
  {
   "cell_type": "code",
   "execution_count": 43,
   "metadata": {
    "Collapsed": "false"
   },
   "outputs": [
    {
     "data": {
      "text/plain": [
       "3412"
      ]
     },
     "execution_count": 43,
     "metadata": {},
     "output_type": "execute_result"
    }
   ],
   "source": [
    "initial_number_of_fighters = len(fighter_df)\n",
    "initial_number_of_fighters"
   ]
  },
  {
   "cell_type": "code",
   "execution_count": 44,
   "metadata": {
    "Collapsed": "false"
   },
   "outputs": [],
   "source": [
    "fighter_df = fighter_df[fighter_df[\"stance\"] != \"\"]"
   ]
  },
  {
   "cell_type": "code",
   "execution_count": 45,
   "metadata": {
    "Collapsed": "false"
   },
   "outputs": [
    {
     "data": {
      "text/plain": [
       "841"
      ]
     },
     "execution_count": 45,
     "metadata": {},
     "output_type": "execute_result"
    }
   ],
   "source": [
    "number_of_fighters_removed = initial_number_of_fighters - len(fighter_df)\n",
    "number_of_fighters_removed"
   ]
  },
  {
   "cell_type": "code",
   "execution_count": 46,
   "metadata": {
    "Collapsed": "false"
   },
   "outputs": [
    {
     "name": "stdout",
     "output_type": "stream",
     "text": [
      "452\n",
      "2009\n",
      "100\n",
      "7\n",
      "3\n"
     ]
    },
    {
     "data": {
      "text/plain": [
       "0.17580707895760406"
      ]
     },
     "execution_count": 46,
     "metadata": {},
     "output_type": "execute_result"
    }
   ],
   "source": [
    "num_southpaw = len(fighter_df[fighter_df[\"stance\"] == \"Southpaw\"])\n",
    "num_orthodox = len(fighter_df[fighter_df[\"stance\"] == \"Orthodox\"])\n",
    "num_switch = len(fighter_df[fighter_df[\"stance\"] == \"Switch\"])\n",
    "num_open = len(fighter_df[fighter_df[\"stance\"] == \"Open Stance\"])\n",
    "num_sideways = len(fighter_df[fighter_df[\"stance\"] == \"Sideways\"])\n",
    "print(num_southpaw)\n",
    "print(num_orthodox)\n",
    "print(num_switch)\n",
    "print(num_open)\n",
    "print(num_sideways)\n",
    "num_southpaw/len(fighter_df)"
   ]
  },
  {
   "cell_type": "code",
   "execution_count": 47,
   "metadata": {
    "Collapsed": "false"
   },
   "outputs": [
    {
     "data": {
      "text/plain": [
       "0.676880591209646"
      ]
     },
     "execution_count": 47,
     "metadata": {},
     "output_type": "execute_result"
    }
   ],
   "source": [
    "fighter_df[\"win_ratio\"].mean()"
   ]
  },
  {
   "cell_type": "code",
   "execution_count": 48,
   "metadata": {
    "Collapsed": "false"
   },
   "outputs": [
    {
     "data": {
      "text/plain": [
       "18.870867366783354"
      ]
     },
     "execution_count": 48,
     "metadata": {},
     "output_type": "execute_result"
    }
   ],
   "source": [
    "fighter_df[\"total_fights\"].mean()"
   ]
  },
  {
   "cell_type": "code",
   "execution_count": 49,
   "metadata": {
    "Collapsed": "false"
   },
   "outputs": [],
   "source": [
    "fighter_df = fighter_df[fighter_df[\"total_fights\"] >= 5]"
   ]
  },
  {
   "cell_type": "code",
   "execution_count": 50,
   "metadata": {
    "Collapsed": "false"
   },
   "outputs": [
    {
     "data": {
      "text/plain": [
       "2421"
      ]
     },
     "execution_count": 50,
     "metadata": {},
     "output_type": "execute_result"
    }
   ],
   "source": [
    "len(fighter_df)"
   ]
  },
  {
   "cell_type": "code",
   "execution_count": 51,
   "metadata": {
    "Collapsed": "false"
   },
   "outputs": [
    {
     "data": {
      "text/plain": [
       "0"
      ]
     },
     "execution_count": 51,
     "metadata": {},
     "output_type": "execute_result"
    }
   ],
   "source": [
    "fighter_df.isnull().sum().sum()"
   ]
  },
  {
   "cell_type": "code",
   "execution_count": 52,
   "metadata": {
    "Collapsed": "false"
   },
   "outputs": [
    {
     "data": {
      "text/plain": [
       "array(['Orthodox', 'Switch', 'Southpaw', 'Open Stance', 'Sideways'],\n",
       "      dtype=object)"
      ]
     },
     "execution_count": 52,
     "metadata": {},
     "output_type": "execute_result"
    }
   ],
   "source": [
    "fighter_df[\"stance\"].unique()"
   ]
  },
  {
   "cell_type": "code",
   "execution_count": 53,
   "metadata": {
    "Collapsed": "false"
   },
   "outputs": [
    {
     "data": {
      "text/html": [
       "<div>\n",
       "<style scoped>\n",
       "    .dataframe tbody tr th:only-of-type {\n",
       "        vertical-align: middle;\n",
       "    }\n",
       "\n",
       "    .dataframe tbody tr th {\n",
       "        vertical-align: top;\n",
       "    }\n",
       "\n",
       "    .dataframe thead th {\n",
       "        text-align: right;\n",
       "    }\n",
       "</style>\n",
       "<table border=\"1\" class=\"dataframe\">\n",
       "  <thead>\n",
       "    <tr style=\"text-align: right;\">\n",
       "      <th></th>\n",
       "      <th>last_name</th>\n",
       "      <th>first_name</th>\n",
       "      <th>nick_name</th>\n",
       "      <th>height</th>\n",
       "      <th>weight</th>\n",
       "      <th>reach</th>\n",
       "      <th>stance</th>\n",
       "      <th>wins</th>\n",
       "      <th>losses</th>\n",
       "      <th>draws</th>\n",
       "      <th>total_fights</th>\n",
       "      <th>win_ratio</th>\n",
       "    </tr>\n",
       "  </thead>\n",
       "  <tbody>\n",
       "    <tr>\n",
       "      <th>1</th>\n",
       "      <td>Abbadi</td>\n",
       "      <td>Danny</td>\n",
       "      <td>The Assassin</td>\n",
       "      <td>5' 11\"</td>\n",
       "      <td>155</td>\n",
       "      <td>--</td>\n",
       "      <td>Orthodox</td>\n",
       "      <td>4</td>\n",
       "      <td>6</td>\n",
       "      <td>0</td>\n",
       "      <td>10</td>\n",
       "      <td>0.40</td>\n",
       "    </tr>\n",
       "    <tr>\n",
       "      <th>3</th>\n",
       "      <td>Abdurakhimov</td>\n",
       "      <td>Shamil</td>\n",
       "      <td>Abrek</td>\n",
       "      <td>6' 3\"</td>\n",
       "      <td>235</td>\n",
       "      <td>76.0</td>\n",
       "      <td>Orthodox</td>\n",
       "      <td>20</td>\n",
       "      <td>5</td>\n",
       "      <td>0</td>\n",
       "      <td>25</td>\n",
       "      <td>0.80</td>\n",
       "    </tr>\n",
       "    <tr>\n",
       "      <th>4</th>\n",
       "      <td>Abe</td>\n",
       "      <td>Hiroyuki</td>\n",
       "      <td>Abe Ani</td>\n",
       "      <td>5' 6\"</td>\n",
       "      <td>145</td>\n",
       "      <td>--</td>\n",
       "      <td>Orthodox</td>\n",
       "      <td>8</td>\n",
       "      <td>14</td>\n",
       "      <td>3</td>\n",
       "      <td>25</td>\n",
       "      <td>0.32</td>\n",
       "    </tr>\n",
       "    <tr>\n",
       "      <th>5</th>\n",
       "      <td>Abe</td>\n",
       "      <td>Daichi</td>\n",
       "      <td></td>\n",
       "      <td>5' 11\"</td>\n",
       "      <td>170</td>\n",
       "      <td>71.0</td>\n",
       "      <td>Orthodox</td>\n",
       "      <td>6</td>\n",
       "      <td>2</td>\n",
       "      <td>0</td>\n",
       "      <td>8</td>\n",
       "      <td>0.75</td>\n",
       "    </tr>\n",
       "    <tr>\n",
       "      <th>7</th>\n",
       "      <td>Abreu</td>\n",
       "      <td>Ricardo</td>\n",
       "      <td>Demente</td>\n",
       "      <td>5' 11\"</td>\n",
       "      <td>185</td>\n",
       "      <td>73.0</td>\n",
       "      <td>Orthodox</td>\n",
       "      <td>5</td>\n",
       "      <td>3</td>\n",
       "      <td>0</td>\n",
       "      <td>8</td>\n",
       "      <td>0.62</td>\n",
       "    </tr>\n",
       "  </tbody>\n",
       "</table>\n",
       "</div>"
      ],
      "text/plain": [
       "      last_name first_name     nick_name  height weight reach    stance  wins  \\\n",
       "1        Abbadi      Danny  The Assassin  5' 11\"    155    --  Orthodox     4   \n",
       "3  Abdurakhimov     Shamil         Abrek   6' 3\"    235  76.0  Orthodox    20   \n",
       "4           Abe   Hiroyuki       Abe Ani   5' 6\"    145    --  Orthodox     8   \n",
       "5           Abe     Daichi                5' 11\"    170  71.0  Orthodox     6   \n",
       "7         Abreu    Ricardo       Demente  5' 11\"    185  73.0  Orthodox     5   \n",
       "\n",
       "   losses  draws  total_fights  win_ratio  \n",
       "1       6      0            10       0.40  \n",
       "3       5      0            25       0.80  \n",
       "4      14      3            25       0.32  \n",
       "5       2      0             8       0.75  \n",
       "7       3      0             8       0.62  "
      ]
     },
     "execution_count": 53,
     "metadata": {},
     "output_type": "execute_result"
    }
   ],
   "source": [
    "orthodox_df = fighter_df[fighter_df[\"stance\"] == \"Orthodox\"]\n",
    "orthodox_df.head()"
   ]
  },
  {
   "cell_type": "code",
   "execution_count": 54,
   "metadata": {
    "Collapsed": "false"
   },
   "outputs": [
    {
     "data": {
      "text/html": [
       "<div>\n",
       "<style scoped>\n",
       "    .dataframe tbody tr th:only-of-type {\n",
       "        vertical-align: middle;\n",
       "    }\n",
       "\n",
       "    .dataframe tbody tr th {\n",
       "        vertical-align: top;\n",
       "    }\n",
       "\n",
       "    .dataframe thead th {\n",
       "        text-align: right;\n",
       "    }\n",
       "</style>\n",
       "<table border=\"1\" class=\"dataframe\">\n",
       "  <thead>\n",
       "    <tr style=\"text-align: right;\">\n",
       "      <th></th>\n",
       "      <th>last_name</th>\n",
       "      <th>first_name</th>\n",
       "      <th>nick_name</th>\n",
       "      <th>height</th>\n",
       "      <th>weight</th>\n",
       "      <th>reach</th>\n",
       "      <th>stance</th>\n",
       "      <th>wins</th>\n",
       "      <th>losses</th>\n",
       "      <th>draws</th>\n",
       "      <th>total_fights</th>\n",
       "      <th>win_ratio</th>\n",
       "    </tr>\n",
       "  </thead>\n",
       "  <tbody>\n",
       "    <tr>\n",
       "      <th>6</th>\n",
       "      <td>Abedi</td>\n",
       "      <td>Papy</td>\n",
       "      <td>Makambo</td>\n",
       "      <td>5' 11\"</td>\n",
       "      <td>185</td>\n",
       "      <td>74.0</td>\n",
       "      <td>Southpaw</td>\n",
       "      <td>9</td>\n",
       "      <td>3</td>\n",
       "      <td>0</td>\n",
       "      <td>12</td>\n",
       "      <td>0.75</td>\n",
       "    </tr>\n",
       "    <tr>\n",
       "      <th>10</th>\n",
       "      <td>Adams</td>\n",
       "      <td>Scott</td>\n",
       "      <td></td>\n",
       "      <td>6' 0\"</td>\n",
       "      <td>225</td>\n",
       "      <td>--</td>\n",
       "      <td>Southpaw</td>\n",
       "      <td>8</td>\n",
       "      <td>1</td>\n",
       "      <td>0</td>\n",
       "      <td>9</td>\n",
       "      <td>0.89</td>\n",
       "    </tr>\n",
       "    <tr>\n",
       "      <th>16</th>\n",
       "      <td>Agapova</td>\n",
       "      <td>Mariya</td>\n",
       "      <td></td>\n",
       "      <td>5' 8\"</td>\n",
       "      <td>125</td>\n",
       "      <td>--</td>\n",
       "      <td>Southpaw</td>\n",
       "      <td>6</td>\n",
       "      <td>1</td>\n",
       "      <td>0</td>\n",
       "      <td>7</td>\n",
       "      <td>0.86</td>\n",
       "    </tr>\n",
       "    <tr>\n",
       "      <th>22</th>\n",
       "      <td>Akano</td>\n",
       "      <td>Hitomi</td>\n",
       "      <td>Girlfight Monster</td>\n",
       "      <td>5' 4\"</td>\n",
       "      <td>135</td>\n",
       "      <td>--</td>\n",
       "      <td>Southpaw</td>\n",
       "      <td>18</td>\n",
       "      <td>8</td>\n",
       "      <td>0</td>\n",
       "      <td>26</td>\n",
       "      <td>0.69</td>\n",
       "    </tr>\n",
       "    <tr>\n",
       "      <th>38</th>\n",
       "      <td>Alcantara</td>\n",
       "      <td>Iuri</td>\n",
       "      <td>Marajo</td>\n",
       "      <td>5' 9\"</td>\n",
       "      <td>135</td>\n",
       "      <td>71.0</td>\n",
       "      <td>Southpaw</td>\n",
       "      <td>35</td>\n",
       "      <td>10</td>\n",
       "      <td>0</td>\n",
       "      <td>45</td>\n",
       "      <td>0.78</td>\n",
       "    </tr>\n",
       "  </tbody>\n",
       "</table>\n",
       "</div>"
      ],
      "text/plain": [
       "    last_name first_name          nick_name  height weight reach    stance  \\\n",
       "6       Abedi       Papy            Makambo  5' 11\"    185  74.0  Southpaw   \n",
       "10      Adams      Scott                      6' 0\"    225    --  Southpaw   \n",
       "16    Agapova     Mariya                      5' 8\"    125    --  Southpaw   \n",
       "22      Akano     Hitomi  Girlfight Monster   5' 4\"    135    --  Southpaw   \n",
       "38  Alcantara       Iuri             Marajo   5' 9\"    135  71.0  Southpaw   \n",
       "\n",
       "    wins  losses  draws  total_fights  win_ratio  \n",
       "6      9       3      0            12       0.75  \n",
       "10     8       1      0             9       0.89  \n",
       "16     6       1      0             7       0.86  \n",
       "22    18       8      0            26       0.69  \n",
       "38    35      10      0            45       0.78  "
      ]
     },
     "execution_count": 54,
     "metadata": {},
     "output_type": "execute_result"
    }
   ],
   "source": [
    "southpaw_df = fighter_df[fighter_df[\"stance\"] == \"Southpaw\"]\n",
    "southpaw_df.head()"
   ]
  },
  {
   "cell_type": "code",
   "execution_count": 55,
   "metadata": {
    "Collapsed": "false"
   },
   "outputs": [
    {
     "data": {
      "text/html": [
       "<div>\n",
       "<style scoped>\n",
       "    .dataframe tbody tr th:only-of-type {\n",
       "        vertical-align: middle;\n",
       "    }\n",
       "\n",
       "    .dataframe tbody tr th {\n",
       "        vertical-align: top;\n",
       "    }\n",
       "\n",
       "    .dataframe thead th {\n",
       "        text-align: right;\n",
       "    }\n",
       "</style>\n",
       "<table border=\"1\" class=\"dataframe\">\n",
       "  <thead>\n",
       "    <tr style=\"text-align: right;\">\n",
       "      <th></th>\n",
       "      <th>last_name</th>\n",
       "      <th>first_name</th>\n",
       "      <th>nick_name</th>\n",
       "      <th>height</th>\n",
       "      <th>weight</th>\n",
       "      <th>reach</th>\n",
       "      <th>stance</th>\n",
       "      <th>wins</th>\n",
       "      <th>losses</th>\n",
       "      <th>draws</th>\n",
       "      <th>total_fights</th>\n",
       "      <th>win_ratio</th>\n",
       "    </tr>\n",
       "  </thead>\n",
       "  <tbody>\n",
       "    <tr>\n",
       "      <th>2</th>\n",
       "      <td>Abbott</td>\n",
       "      <td>David</td>\n",
       "      <td>Tank</td>\n",
       "      <td>6' 0\"</td>\n",
       "      <td>265</td>\n",
       "      <td>--</td>\n",
       "      <td>Switch</td>\n",
       "      <td>10</td>\n",
       "      <td>14</td>\n",
       "      <td>0</td>\n",
       "      <td>24</td>\n",
       "      <td>0.42</td>\n",
       "    </tr>\n",
       "    <tr>\n",
       "      <th>13</th>\n",
       "      <td>Adesanya</td>\n",
       "      <td>Israel</td>\n",
       "      <td>The Last Stylebender</td>\n",
       "      <td>6' 4\"</td>\n",
       "      <td>185</td>\n",
       "      <td>80.0</td>\n",
       "      <td>Switch</td>\n",
       "      <td>18</td>\n",
       "      <td>0</td>\n",
       "      <td>0</td>\n",
       "      <td>18</td>\n",
       "      <td>1.00</td>\n",
       "    </tr>\n",
       "    <tr>\n",
       "      <th>25</th>\n",
       "      <td>Akman</td>\n",
       "      <td>Rostem</td>\n",
       "      <td>Kurdimus Prime</td>\n",
       "      <td>5' 10\"</td>\n",
       "      <td>170</td>\n",
       "      <td>72.0</td>\n",
       "      <td>Switch</td>\n",
       "      <td>6</td>\n",
       "      <td>2</td>\n",
       "      <td>0</td>\n",
       "      <td>8</td>\n",
       "      <td>0.75</td>\n",
       "    </tr>\n",
       "    <tr>\n",
       "      <th>54</th>\n",
       "      <td>Algeo</td>\n",
       "      <td>Bill</td>\n",
       "      <td>Senor Perfecto</td>\n",
       "      <td>6' 0\"</td>\n",
       "      <td>145</td>\n",
       "      <td>73.0</td>\n",
       "      <td>Switch</td>\n",
       "      <td>12</td>\n",
       "      <td>3</td>\n",
       "      <td>0</td>\n",
       "      <td>15</td>\n",
       "      <td>0.80</td>\n",
       "    </tr>\n",
       "    <tr>\n",
       "      <th>102</th>\n",
       "      <td>Andrews</td>\n",
       "      <td>Dylan</td>\n",
       "      <td>The Villain</td>\n",
       "      <td>6' 1\"</td>\n",
       "      <td>185</td>\n",
       "      <td>73.0</td>\n",
       "      <td>Switch</td>\n",
       "      <td>18</td>\n",
       "      <td>8</td>\n",
       "      <td>0</td>\n",
       "      <td>26</td>\n",
       "      <td>0.69</td>\n",
       "    </tr>\n",
       "  </tbody>\n",
       "</table>\n",
       "</div>"
      ],
      "text/plain": [
       "    last_name first_name             nick_name  height weight reach  stance  \\\n",
       "2      Abbott      David                  Tank   6' 0\"    265    --  Switch   \n",
       "13   Adesanya     Israel  The Last Stylebender   6' 4\"    185  80.0  Switch   \n",
       "25      Akman     Rostem        Kurdimus Prime  5' 10\"    170  72.0  Switch   \n",
       "54      Algeo       Bill        Senor Perfecto   6' 0\"    145  73.0  Switch   \n",
       "102   Andrews      Dylan           The Villain   6' 1\"    185  73.0  Switch   \n",
       "\n",
       "     wins  losses  draws  total_fights  win_ratio  \n",
       "2      10      14      0            24       0.42  \n",
       "13     18       0      0            18       1.00  \n",
       "25      6       2      0             8       0.75  \n",
       "54     12       3      0            15       0.80  \n",
       "102    18       8      0            26       0.69  "
      ]
     },
     "execution_count": 55,
     "metadata": {},
     "output_type": "execute_result"
    }
   ],
   "source": [
    "switch_df = fighter_df[fighter_df[\"stance\"] == \"Switch\"]\n",
    "switch_df.head()"
   ]
  },
  {
   "cell_type": "code",
   "execution_count": 56,
   "metadata": {
    "Collapsed": "false"
   },
   "outputs": [
    {
     "data": {
      "text/html": [
       "<div>\n",
       "<style scoped>\n",
       "    .dataframe tbody tr th:only-of-type {\n",
       "        vertical-align: middle;\n",
       "    }\n",
       "\n",
       "    .dataframe tbody tr th {\n",
       "        vertical-align: top;\n",
       "    }\n",
       "\n",
       "    .dataframe thead th {\n",
       "        text-align: right;\n",
       "    }\n",
       "</style>\n",
       "<table border=\"1\" class=\"dataframe\">\n",
       "  <thead>\n",
       "    <tr style=\"text-align: right;\">\n",
       "      <th></th>\n",
       "      <th>last_name</th>\n",
       "      <th>first_name</th>\n",
       "      <th>nick_name</th>\n",
       "      <th>height</th>\n",
       "      <th>weight</th>\n",
       "      <th>reach</th>\n",
       "      <th>stance</th>\n",
       "      <th>wins</th>\n",
       "      <th>losses</th>\n",
       "      <th>draws</th>\n",
       "      <th>total_fights</th>\n",
       "      <th>win_ratio</th>\n",
       "    </tr>\n",
       "  </thead>\n",
       "  <tbody>\n",
       "    <tr>\n",
       "      <th>59</th>\n",
       "      <td>Allen</td>\n",
       "      <td>George</td>\n",
       "      <td></td>\n",
       "      <td>6' 2\"</td>\n",
       "      <td>205</td>\n",
       "      <td>--</td>\n",
       "      <td>Open Stance</td>\n",
       "      <td>13</td>\n",
       "      <td>19</td>\n",
       "      <td>2</td>\n",
       "      <td>34</td>\n",
       "      <td>0.38</td>\n",
       "    </tr>\n",
       "    <tr>\n",
       "      <th>939</th>\n",
       "      <td>Foupa-Pokam</td>\n",
       "      <td>Xavier</td>\n",
       "      <td>Professor X</td>\n",
       "      <td>6' 1\"</td>\n",
       "      <td>185</td>\n",
       "      <td>--</td>\n",
       "      <td>Open Stance</td>\n",
       "      <td>21</td>\n",
       "      <td>16</td>\n",
       "      <td>0</td>\n",
       "      <td>37</td>\n",
       "      <td>0.57</td>\n",
       "    </tr>\n",
       "    <tr>\n",
       "      <th>2090</th>\n",
       "      <td>Moura</td>\n",
       "      <td>Flavio Luiz</td>\n",
       "      <td></td>\n",
       "      <td>5' 11\"</td>\n",
       "      <td>183</td>\n",
       "      <td>--</td>\n",
       "      <td>Open Stance</td>\n",
       "      <td>17</td>\n",
       "      <td>7</td>\n",
       "      <td>0</td>\n",
       "      <td>24</td>\n",
       "      <td>0.71</td>\n",
       "    </tr>\n",
       "    <tr>\n",
       "      <th>2458</th>\n",
       "      <td>Quarry</td>\n",
       "      <td>Nate</td>\n",
       "      <td>Rock</td>\n",
       "      <td>6' 0\"</td>\n",
       "      <td>185</td>\n",
       "      <td>72.0</td>\n",
       "      <td>Open Stance</td>\n",
       "      <td>12</td>\n",
       "      <td>4</td>\n",
       "      <td>0</td>\n",
       "      <td>16</td>\n",
       "      <td>0.75</td>\n",
       "    </tr>\n",
       "    <tr>\n",
       "      <th>2614</th>\n",
       "      <td>Rothaermel</td>\n",
       "      <td>Kristian</td>\n",
       "      <td></td>\n",
       "      <td>6' 0\"</td>\n",
       "      <td>205</td>\n",
       "      <td>--</td>\n",
       "      <td>Open Stance</td>\n",
       "      <td>4</td>\n",
       "      <td>3</td>\n",
       "      <td>0</td>\n",
       "      <td>7</td>\n",
       "      <td>0.57</td>\n",
       "    </tr>\n",
       "  </tbody>\n",
       "</table>\n",
       "</div>"
      ],
      "text/plain": [
       "        last_name   first_name    nick_name  height weight reach       stance  \\\n",
       "59          Allen       George                6' 2\"    205    --  Open Stance   \n",
       "939   Foupa-Pokam       Xavier  Professor X   6' 1\"    185    --  Open Stance   \n",
       "2090        Moura  Flavio Luiz               5' 11\"    183    --  Open Stance   \n",
       "2458       Quarry         Nate         Rock   6' 0\"    185  72.0  Open Stance   \n",
       "2614   Rothaermel     Kristian                6' 0\"    205    --  Open Stance   \n",
       "\n",
       "      wins  losses  draws  total_fights  win_ratio  \n",
       "59      13      19      2            34       0.38  \n",
       "939     21      16      0            37       0.57  \n",
       "2090    17       7      0            24       0.71  \n",
       "2458    12       4      0            16       0.75  \n",
       "2614     4       3      0             7       0.57  "
      ]
     },
     "execution_count": 56,
     "metadata": {},
     "output_type": "execute_result"
    }
   ],
   "source": [
    "open_df = fighter_df[fighter_df[\"stance\"] == \"Open Stance\"]\n",
    "open_df.head()"
   ]
  },
  {
   "cell_type": "code",
   "execution_count": 57,
   "metadata": {
    "Collapsed": "false"
   },
   "outputs": [
    {
     "data": {
      "text/html": [
       "<div>\n",
       "<style scoped>\n",
       "    .dataframe tbody tr th:only-of-type {\n",
       "        vertical-align: middle;\n",
       "    }\n",
       "\n",
       "    .dataframe tbody tr th {\n",
       "        vertical-align: top;\n",
       "    }\n",
       "\n",
       "    .dataframe thead th {\n",
       "        text-align: right;\n",
       "    }\n",
       "</style>\n",
       "<table border=\"1\" class=\"dataframe\">\n",
       "  <thead>\n",
       "    <tr style=\"text-align: right;\">\n",
       "      <th></th>\n",
       "      <th>last_name</th>\n",
       "      <th>first_name</th>\n",
       "      <th>nick_name</th>\n",
       "      <th>height</th>\n",
       "      <th>weight</th>\n",
       "      <th>reach</th>\n",
       "      <th>stance</th>\n",
       "      <th>wins</th>\n",
       "      <th>losses</th>\n",
       "      <th>draws</th>\n",
       "      <th>total_fights</th>\n",
       "      <th>win_ratio</th>\n",
       "    </tr>\n",
       "  </thead>\n",
       "  <tbody>\n",
       "    <tr>\n",
       "      <th>2175</th>\n",
       "      <td>Newton</td>\n",
       "      <td>Jeff</td>\n",
       "      <td></td>\n",
       "      <td>6' 2\"</td>\n",
       "      <td>205</td>\n",
       "      <td>--</td>\n",
       "      <td>Sideways</td>\n",
       "      <td>4</td>\n",
       "      <td>2</td>\n",
       "      <td>0</td>\n",
       "      <td>6</td>\n",
       "      <td>0.67</td>\n",
       "    </tr>\n",
       "  </tbody>\n",
       "</table>\n",
       "</div>"
      ],
      "text/plain": [
       "     last_name first_name nick_name height weight reach    stance  wins  \\\n",
       "2175    Newton       Jeff            6' 2\"    205    --  Sideways     4   \n",
       "\n",
       "      losses  draws  total_fights  win_ratio  \n",
       "2175       2      0             6       0.67  "
      ]
     },
     "execution_count": 57,
     "metadata": {},
     "output_type": "execute_result"
    }
   ],
   "source": [
    "sideways_df = fighter_df[fighter_df[\"stance\"] == \"Sideways\"]\n",
    "sideways_df.head()"
   ]
  },
  {
   "cell_type": "code",
   "execution_count": 58,
   "metadata": {
    "Collapsed": "false"
   },
   "outputs": [
    {
     "name": "stdout",
     "output_type": "stream",
     "text": [
      "The total number of Orthodox fighters is 1886\n",
      "The total number of Southpaw fighters is 430\n",
      "The total number of Switch fighters is 98\n",
      "The total number of Open Stance fighters is 6\n",
      "The total number of Sideways fighters is 1\n"
     ]
    }
   ],
   "source": [
    "print(f\"The total number of Orthodox fighters is {len(orthodox_df)}\")\n",
    "print(f\"The total number of Southpaw fighters is {len(southpaw_df)}\")\n",
    "print(f\"The total number of Switch fighters is {len(switch_df)}\")\n",
    "print(f\"The total number of Open Stance fighters is {len(open_df)}\")\n",
    "print(f\"The total number of Sideways fighters is {len(sideways_df)}\")"
   ]
  },
  {
   "cell_type": "code",
   "execution_count": 59,
   "metadata": {
    "Collapsed": "false"
   },
   "outputs": [],
   "source": [
    "fighter_df = fighter_df[fighter_df[\"stance\"] != \"Open Stance\"]\n",
    "fighter_df = fighter_df[fighter_df[\"stance\"] != \"Sideways\"]"
   ]
  },
  {
   "cell_type": "code",
   "execution_count": 60,
   "metadata": {
    "Collapsed": "false"
   },
   "outputs": [
    {
     "data": {
      "image/png": "[encoded data removed]",
      "text/plain": [
       "<Figure size 1080x576 with 1 Axes>"
      ]
     },
     "metadata": {
      "needs_background": "light"
     },
     "output_type": "display_data"
    }
   ],
   "source": [
    "plt.figure(figsize=(15,8))\n",
    "# sns.set_style(\"whitegrid\")\n",
    "sns.set_palette(\"Reds\", 4)\n",
    "sns.boxplot(x=\"stance\",y=\"win_ratio\",data=fighter_df,order=[\"Orthodox\", \"Southpaw\", \"Switch\"])\n",
    "sns.stripplot(x=\"stance\", y=\"win_ratio\", data=fighter_df, order=[\"Orthodox\", \"Southpaw\", \"Switch\"], jitter=0.4, color=\"0.3\")\n",
    "plt.title(\"Boxplot of UFC Fighter's Win Ratios Grouped by Fighting Stance\", fontsize=16)\n",
    "plt.xlabel(\"\")\n",
    "plt.xticks([0,1,2],[\"Orthodox\",\"Southpaw\",\"Switch\"],fontsize=13)\n",
    "plt.ylabel(\"Win Ratio (Total Wins / Total Fights)\", fontsize=13)\n",
    "\n",
    "file_path = \"/Users/ravimalde/dsc-files/student/Projects/ufc_fighter_stance/\"\n",
    "plt.savefig(file_path + \"boxplot.png\")\n",
    "\n",
    "plt.show()"
   ]
  },
  {
   "cell_type": "code",
   "execution_count": 61,
   "metadata": {
    "Collapsed": "false"
   },
   "outputs": [
    {
     "data": {
      "image/png": "[encoded data removed]",
      "text/plain": [
       "<Figure size 1080x576 with 1 Axes>"
      ]
     },
     "metadata": {
      "needs_background": "light"
     },
     "output_type": "display_data"
    }
   ],
   "source": [
    "stance_model = ols(\"win_ratio ~ C(stance)\", data=fighter_df).fit()\n",
    "residuals = stance_model.resid\n",
    "\n",
    "fig = sm.graphics.qqplot(residuals, dist=stats.norm, line='45', fit=True)\n",
    "\n",
    "ax = plt.gca()\n",
    "fig.set_size_inches(15, 8)\n",
    "ax.set_xlabel(\"Theoretical Quantiles\", fontsize=13)\n",
    "ax.set_ylabel(\"Sample Quantiles\", fontsize=13)\n",
    "ax.set_title(\"Q-Q Plot of Residuals\", fontsize=16)\n",
    "\n",
    "file_path = \"/Users/ravimalde/dsc-files/student/Projects/ufc_fighter_stance/\"\n",
    "plt.savefig(file_path + \"residuals.png\")\n",
    "\n",
    "plt.show()"
   ]
  },
  {
   "cell_type": "code",
   "execution_count": 62,
   "metadata": {
    "Collapsed": "false"
   },
   "outputs": [
    {
     "data": {
      "text/plain": [
       "LeveneResult(statistic=0.7447379511847867, pvalue=0.4749679254981456)"
      ]
     },
     "execution_count": 62,
     "metadata": {},
     "output_type": "execute_result"
    }
   ],
   "source": [
    "homoscedasticity_test = stats.levene(orthodox_df.win_ratio, southpaw_df.win_ratio, switch_df.win_ratio)\n",
    "homoscedasticity_test\n",
    "\n",
    "# P-value is > 0.05, therefore the datasets are homoscedastic"
   ]
  },
  {
   "cell_type": "code",
   "execution_count": 63,
   "metadata": {
    "Collapsed": "false"
   },
   "outputs": [
    {
     "data": {
      "text/html": [
       "<div>\n",
       "<style scoped>\n",
       "    .dataframe tbody tr th:only-of-type {\n",
       "        vertical-align: middle;\n",
       "    }\n",
       "\n",
       "    .dataframe tbody tr th {\n",
       "        vertical-align: top;\n",
       "    }\n",
       "\n",
       "    .dataframe thead th {\n",
       "        text-align: right;\n",
       "    }\n",
       "</style>\n",
       "<table border=\"1\" class=\"dataframe\">\n",
       "  <thead>\n",
       "    <tr style=\"text-align: right;\">\n",
       "      <th></th>\n",
       "      <th>df</th>\n",
       "      <th>sum_sq</th>\n",
       "      <th>mean_sq</th>\n",
       "      <th>F</th>\n",
       "      <th>PR(&gt;F)</th>\n",
       "    </tr>\n",
       "  </thead>\n",
       "  <tbody>\n",
       "    <tr>\n",
       "      <th>C(stance)</th>\n",
       "      <td>2.0</td>\n",
       "      <td>0.450829</td>\n",
       "      <td>0.225415</td>\n",
       "      <td>11.367409</td>\n",
       "      <td>0.000012</td>\n",
       "    </tr>\n",
       "    <tr>\n",
       "      <th>Residual</th>\n",
       "      <td>2411.0</td>\n",
       "      <td>47.809905</td>\n",
       "      <td>0.019830</td>\n",
       "      <td>NaN</td>\n",
       "      <td>NaN</td>\n",
       "    </tr>\n",
       "  </tbody>\n",
       "</table>\n",
       "</div>"
      ],
      "text/plain": [
       "               df     sum_sq   mean_sq          F    PR(>F)\n",
       "C(stance)     2.0   0.450829  0.225415  11.367409  0.000012\n",
       "Residual   2411.0  47.809905  0.019830        NaN       NaN"
      ]
     },
     "execution_count": 63,
     "metadata": {},
     "output_type": "execute_result"
    }
   ],
   "source": [
    "lm = ols('win_ratio ~ C(stance) ',data=fighter_df).fit()\n",
    "table = sm.stats.anova_lm(lm)\n",
    "table"
   ]
  },
  {
   "cell_type": "code",
   "execution_count": 74,
   "metadata": {
    "Collapsed": "false"
   },
   "outputs": [
    {
     "data": {
      "text/plain": [
       "(array([ True]), array([1.2e-05]), 0.050000000000000044, 0.05)"
      ]
     },
     "execution_count": 74,
     "metadata": {},
     "output_type": "execute_result"
    }
   ],
   "source": [
    "p_adjusted = multipletests(0.000012, alpha= 0.05, method='bonferroni')\n",
    "p_adjusted"
   ]
  },
  {
   "cell_type": "code",
   "execution_count": 75,
   "metadata": {
    "Collapsed": "false"
   },
   "outputs": [
    {
     "ename": "ModuleNotFoundError",
     "evalue": "No module named 'statsmodels.stats.libqsturng'",
     "output_type": "error",
     "traceback": [
      "\u001b[0;31m---------------------------------------------------------------------------\u001b[0m",
      "\u001b[0;31mModuleNotFoundError\u001b[0m                       Traceback (most recent call last)",
      "\u001b[0;32m<ipython-input-75-dd2f2be8321c>\u001b[0m in \u001b[0;36m<module>\u001b[0;34m()\u001b[0m\n\u001b[0;32m----> 1\u001b[0;31m \u001b[0mmc\u001b[0m \u001b[0;34m=\u001b[0m \u001b[0mpairwise_tukeyhsd\u001b[0m\u001b[0;34m(\u001b[0m\u001b[0mfighter_df\u001b[0m\u001b[0;34m[\u001b[0m\u001b[0;34m'win_ratio'\u001b[0m\u001b[0;34m]\u001b[0m\u001b[0;34m,\u001b[0m \u001b[0mfighter_df\u001b[0m\u001b[0;34m[\u001b[0m\u001b[0;34m'stance'\u001b[0m\u001b[0;34m]\u001b[0m\u001b[0;34m)\u001b[0m\u001b[0;34m\u001b[0m\u001b[0m\n\u001b[0m\u001b[1;32m      2\u001b[0m \u001b[0;31m# result = mc.tukeyhsd()\u001b[0m\u001b[0;34m\u001b[0m\u001b[0;34m\u001b[0m\u001b[0m\n\u001b[1;32m      3\u001b[0m \u001b[0;34m\u001b[0m\u001b[0m\n\u001b[1;32m      4\u001b[0m \u001b[0mprint\u001b[0m\u001b[0;34m(\u001b[0m\u001b[0mresult\u001b[0m\u001b[0;34m)\u001b[0m\u001b[0;34m\u001b[0m\u001b[0m\n\u001b[1;32m      5\u001b[0m \u001b[0mprint\u001b[0m\u001b[0;34m(\u001b[0m\u001b[0mmc\u001b[0m\u001b[0;34m.\u001b[0m\u001b[0mgroupsunique\u001b[0m\u001b[0;34m)\u001b[0m\u001b[0;34m\u001b[0m\u001b[0m\n",
      "\u001b[0;32m~/.local/lib/python3.6/site-packages/statsmodels/stats/multicomp.py\u001b[0m in \u001b[0;36mpairwise_tukeyhsd\u001b[0;34m(endog, groups, alpha)\u001b[0m\n",
      "\u001b[0;32m~/.local/lib/python3.6/site-packages/statsmodels/sandbox/stats/multicomp.py\u001b[0m in \u001b[0;36mtukeyhsd\u001b[0;34m(self, alpha)\u001b[0m\n",
      "\u001b[0;32m~/.local/lib/python3.6/site-packages/statsmodels/sandbox/stats/multicomp.py\u001b[0m in \u001b[0;36mtukeyhsd\u001b[0;34m(mean_all, nobs_all, var_all, df, alpha, q_crit)\u001b[0m\n",
      "\u001b[0;32m~/.local/lib/python3.6/site-packages/statsmodels/sandbox/stats/multicomp.py\u001b[0m in \u001b[0;36mget_tukeyQcrit2\u001b[0;34m(k, df, alpha)\u001b[0m\n",
      "\u001b[0;31mModuleNotFoundError\u001b[0m: No module named 'statsmodels.stats.libqsturng'"
     ]
    }
   ],
   "source": [
    "mc = pairwise_tukeyhsd(fighter_df['win_ratio'], fighter_df['stance'])\n",
    "# result = mc.tukeyhsd()\n",
    " \n",
    "print(result)\n",
    "print(mc.groupsunique)"
   ]
  },
  {
   "cell_type": "code",
   "execution_count": 65,
   "metadata": {
    "Collapsed": "false"
   },
   "outputs": [],
   "source": [
    "orthodox_mean = orthodox_df[\"win_ratio\"].mean()\n",
    "southpaw_mean = southpaw_df[\"win_ratio\"].mean()\n",
    "switch_mean = switch_df[\"win_ratio\"].mean()\n",
    "\n",
    "orthodox_std = orthodox_df[\"win_ratio\"].std()\n",
    "southpaw_std = southpaw_df[\"win_ratio\"].std()\n",
    "switch_std = switch_df[\"win_ratio\"].std()"
   ]
  },
  {
   "cell_type": "code",
   "execution_count": 66,
   "metadata": {
    "Collapsed": "false"
   },
   "outputs": [
    {
     "data": {
      "text/plain": [
       "0.029554675664638656"
      ]
     },
     "execution_count": 66,
     "metadata": {},
     "output_type": "execute_result"
    }
   ],
   "source": [
    "cohens_d_southpaw_orthodox = (southpaw_mean - orthodox_mean)/(((southpaw_std**2 + orthodox_std**2)/2)**0.5)\n",
    "cohens_d_southpaw_orthodox"
   ]
  },
  {
   "cell_type": "code",
   "execution_count": 67,
   "metadata": {
    "Collapsed": "false"
   },
   "outputs": [
    {
     "data": {
      "text/plain": [
       "0.49952589926255675"
      ]
     },
     "execution_count": 67,
     "metadata": {},
     "output_type": "execute_result"
    }
   ],
   "source": [
    "cohens_d_switch_orthodox = (switch_mean - orthodox_mean)/(((switch_std**2 + orthodox_std**2)/2)**0.5)\n",
    "cohens_d_switch_orthodox"
   ]
  },
  {
   "cell_type": "code",
   "execution_count": 68,
   "metadata": {
    "Collapsed": "false"
   },
   "outputs": [
    {
     "data": {
      "text/plain": [
       "0.4734877536967275"
      ]
     },
     "execution_count": 68,
     "metadata": {},
     "output_type": "execute_result"
    }
   ],
   "source": [
    "cohens_d_southpaw_switch = (switch_mean - southpaw_mean)/(((switch_std**2 + southpaw_std**2)/2)**0.5)\n",
    "cohens_d_southpaw_switch"
   ]
  },
  {
   "cell_type": "code",
   "execution_count": 69,
   "metadata": {
    "Collapsed": "false"
   },
   "outputs": [
    {
     "name": "stdout",
     "output_type": "stream",
     "text": [
      "{'Orthodox': 0.6968769883351007, 'Southpaw': 0.7010232558139533, 'Switch': 0.7664285714285715}\n"
     ]
    }
   ],
   "source": [
    "orthodox_southpaw_switch_dict = {'Orthodox':orthodox_mean, 'Southpaw':southpaw_mean, 'Switch':switch_mean}\n",
    "print(orthodox_southpaw_switch_dict)"
   ]
  },
  {
   "cell_type": "code",
   "execution_count": null,
   "metadata": {
    "Collapsed": "false"
   },
   "outputs": [],
   "source": []
  },
  {
   "cell_type": "code",
   "execution_count": null,
   "metadata": {
    "Collapsed": "false"
   },
   "outputs": [],
   "source": []
  }
 ],
 "metadata": {
  "kernelspec": {
   "display_name": "Python 3",
   "language": "python",
   "name": "python3"
  },
  "language_info": {
   "codemirror_mode": {
    "name": "ipython",
    "version": 3
   },
   "file_extension": ".py",
   "mimetype": "text/x-python",
   "name": "python",
   "nbconvert_exporter": "python",
   "pygments_lexer": "ipython3",
   "version": "3.6.6"
  }
 },
 "nbformat": 4,
 "nbformat_minor": 4
}
